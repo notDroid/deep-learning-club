{
 "cells": [
  {
   "cell_type": "markdown",
   "id": "8b9021ee",
   "metadata": {
    "papermill": {
     "duration": 0.008328,
     "end_time": "2023-12-12T20:46:25.677316",
     "exception": false,
     "start_time": "2023-12-12T20:46:25.668988",
     "status": "completed"
    },
    "tags": []
   },
   "source": [
    "# Rain Prediction with Deep Learning Techniques\n",
    "\n",
    "1. Data manipulation with pandas\n",
    "2. Feed forward neural networks with keras\n",
    "\n",
    "This tutorial is meant to be gone through after reading this blog post in a series of deep learning tutorials: https://www.notion.so/Deep-Dive-into-Deep-Learning-2b64f8a2e5774e78a4030262775860af"
   ]
  },
  {
   "cell_type": "markdown",
   "id": "068fb538",
   "metadata": {
    "papermill": {
     "duration": 0.007496,
     "end_time": "2023-12-12T20:46:25.692877",
     "exception": false,
     "start_time": "2023-12-12T20:46:25.685381",
     "status": "completed"
    },
    "tags": []
   },
   "source": [
    "## Preparing Data"
   ]
  },
  {
   "cell_type": "markdown",
   "id": "2ad5ec59",
   "metadata": {
    "papermill": {
     "duration": 0.007585,
     "end_time": "2023-12-12T20:46:25.708291",
     "exception": false,
     "start_time": "2023-12-12T20:46:25.700706",
     "status": "completed"
    },
    "tags": []
   },
   "source": [
    "### Import Modules"
   ]
  },
  {
   "cell_type": "code",
   "execution_count": 1,
   "id": "f845227b",
   "metadata": {
    "_cell_guid": "b1076dfc-b9ad-4769-8c92-a6c4dae69d19",
    "_uuid": "8f2839f25d086af736a60e9eeb907d3b93b6e0e5",
    "execution": {
     "iopub.execute_input": "2023-12-12T20:46:25.725361Z",
     "iopub.status.busy": "2023-12-12T20:46:25.724986Z",
     "iopub.status.idle": "2023-12-12T20:46:38.580478Z",
     "shell.execute_reply": "2023-12-12T20:46:38.579449Z"
    },
    "papermill": {
     "duration": 12.866975,
     "end_time": "2023-12-12T20:46:38.582909",
     "exception": false,
     "start_time": "2023-12-12T20:46:25.715934",
     "status": "completed"
    },
    "tags": []
   },
   "outputs": [],
   "source": [
    "import numpy as np\n",
    "import pandas as pd\n",
    "import tensorflow as tf\n",
    "from tensorflow import keras"
   ]
  },
  {
   "cell_type": "markdown",
   "id": "df9adb87",
   "metadata": {
    "papermill": {
     "duration": 0.007552,
     "end_time": "2023-12-12T20:46:38.598718",
     "exception": false,
     "start_time": "2023-12-12T20:46:38.591166",
     "status": "completed"
    },
    "tags": []
   },
   "source": [
    "### Read Data"
   ]
  },
  {
   "cell_type": "code",
   "execution_count": 2,
   "id": "87d1fe3e",
   "metadata": {
    "execution": {
     "iopub.execute_input": "2023-12-12T20:46:38.616450Z",
     "iopub.status.busy": "2023-12-12T20:46:38.615754Z",
     "iopub.status.idle": "2023-12-12T20:46:39.186831Z",
     "shell.execute_reply": "2023-12-12T20:46:39.185924Z"
    },
    "papermill": {
     "duration": 0.58314,
     "end_time": "2023-12-12T20:46:39.189741",
     "exception": false,
     "start_time": "2023-12-12T20:46:38.606601",
     "status": "completed"
    },
    "tags": []
   },
   "outputs": [],
   "source": [
    "weather_data = pd.read_csv('/kaggle/input/weather-dataset-rattle-package/weatherAUS.csv')"
   ]
  },
  {
   "cell_type": "code",
   "execution_count": 3,
   "id": "0be53b00",
   "metadata": {
    "execution": {
     "iopub.execute_input": "2023-12-12T20:46:39.207616Z",
     "iopub.status.busy": "2023-12-12T20:46:39.206922Z",
     "iopub.status.idle": "2023-12-12T20:46:39.302704Z",
     "shell.execute_reply": "2023-12-12T20:46:39.301716Z"
    },
    "papermill": {
     "duration": 0.107559,
     "end_time": "2023-12-12T20:46:39.305423",
     "exception": false,
     "start_time": "2023-12-12T20:46:39.197864",
     "status": "completed"
    },
    "tags": []
   },
   "outputs": [
    {
     "data": {
      "text/html": [
       "<div>\n",
       "<style scoped>\n",
       "    .dataframe tbody tr th:only-of-type {\n",
       "        vertical-align: middle;\n",
       "    }\n",
       "\n",
       "    .dataframe tbody tr th {\n",
       "        vertical-align: top;\n",
       "    }\n",
       "\n",
       "    .dataframe thead th {\n",
       "        text-align: right;\n",
       "    }\n",
       "</style>\n",
       "<table border=\"1\" class=\"dataframe\">\n",
       "  <thead>\n",
       "    <tr style=\"text-align: right;\">\n",
       "      <th></th>\n",
       "      <th>Date</th>\n",
       "      <th>Location</th>\n",
       "      <th>MinTemp</th>\n",
       "      <th>MaxTemp</th>\n",
       "      <th>Rainfall</th>\n",
       "      <th>Evaporation</th>\n",
       "      <th>Sunshine</th>\n",
       "      <th>WindGustDir</th>\n",
       "      <th>WindGustSpeed</th>\n",
       "      <th>WindDir9am</th>\n",
       "      <th>...</th>\n",
       "      <th>Humidity9am</th>\n",
       "      <th>Humidity3pm</th>\n",
       "      <th>Pressure9am</th>\n",
       "      <th>Pressure3pm</th>\n",
       "      <th>Cloud9am</th>\n",
       "      <th>Cloud3pm</th>\n",
       "      <th>Temp9am</th>\n",
       "      <th>Temp3pm</th>\n",
       "      <th>RainToday</th>\n",
       "      <th>RainTomorrow</th>\n",
       "    </tr>\n",
       "  </thead>\n",
       "  <tbody>\n",
       "    <tr>\n",
       "      <th>0</th>\n",
       "      <td>2008-12-01</td>\n",
       "      <td>Albury</td>\n",
       "      <td>13.4</td>\n",
       "      <td>22.9</td>\n",
       "      <td>0.6</td>\n",
       "      <td>NaN</td>\n",
       "      <td>NaN</td>\n",
       "      <td>W</td>\n",
       "      <td>44.0</td>\n",
       "      <td>W</td>\n",
       "      <td>...</td>\n",
       "      <td>71.0</td>\n",
       "      <td>22.0</td>\n",
       "      <td>1007.7</td>\n",
       "      <td>1007.1</td>\n",
       "      <td>8.0</td>\n",
       "      <td>NaN</td>\n",
       "      <td>16.9</td>\n",
       "      <td>21.8</td>\n",
       "      <td>No</td>\n",
       "      <td>No</td>\n",
       "    </tr>\n",
       "    <tr>\n",
       "      <th>1</th>\n",
       "      <td>2008-12-02</td>\n",
       "      <td>Albury</td>\n",
       "      <td>7.4</td>\n",
       "      <td>25.1</td>\n",
       "      <td>0.0</td>\n",
       "      <td>NaN</td>\n",
       "      <td>NaN</td>\n",
       "      <td>WNW</td>\n",
       "      <td>44.0</td>\n",
       "      <td>NNW</td>\n",
       "      <td>...</td>\n",
       "      <td>44.0</td>\n",
       "      <td>25.0</td>\n",
       "      <td>1010.6</td>\n",
       "      <td>1007.8</td>\n",
       "      <td>NaN</td>\n",
       "      <td>NaN</td>\n",
       "      <td>17.2</td>\n",
       "      <td>24.3</td>\n",
       "      <td>No</td>\n",
       "      <td>No</td>\n",
       "    </tr>\n",
       "    <tr>\n",
       "      <th>2</th>\n",
       "      <td>2008-12-03</td>\n",
       "      <td>Albury</td>\n",
       "      <td>12.9</td>\n",
       "      <td>25.7</td>\n",
       "      <td>0.0</td>\n",
       "      <td>NaN</td>\n",
       "      <td>NaN</td>\n",
       "      <td>WSW</td>\n",
       "      <td>46.0</td>\n",
       "      <td>W</td>\n",
       "      <td>...</td>\n",
       "      <td>38.0</td>\n",
       "      <td>30.0</td>\n",
       "      <td>1007.6</td>\n",
       "      <td>1008.7</td>\n",
       "      <td>NaN</td>\n",
       "      <td>2.0</td>\n",
       "      <td>21.0</td>\n",
       "      <td>23.2</td>\n",
       "      <td>No</td>\n",
       "      <td>No</td>\n",
       "    </tr>\n",
       "    <tr>\n",
       "      <th>3</th>\n",
       "      <td>2008-12-04</td>\n",
       "      <td>Albury</td>\n",
       "      <td>9.2</td>\n",
       "      <td>28.0</td>\n",
       "      <td>0.0</td>\n",
       "      <td>NaN</td>\n",
       "      <td>NaN</td>\n",
       "      <td>NE</td>\n",
       "      <td>24.0</td>\n",
       "      <td>SE</td>\n",
       "      <td>...</td>\n",
       "      <td>45.0</td>\n",
       "      <td>16.0</td>\n",
       "      <td>1017.6</td>\n",
       "      <td>1012.8</td>\n",
       "      <td>NaN</td>\n",
       "      <td>NaN</td>\n",
       "      <td>18.1</td>\n",
       "      <td>26.5</td>\n",
       "      <td>No</td>\n",
       "      <td>No</td>\n",
       "    </tr>\n",
       "    <tr>\n",
       "      <th>4</th>\n",
       "      <td>2008-12-05</td>\n",
       "      <td>Albury</td>\n",
       "      <td>17.5</td>\n",
       "      <td>32.3</td>\n",
       "      <td>1.0</td>\n",
       "      <td>NaN</td>\n",
       "      <td>NaN</td>\n",
       "      <td>W</td>\n",
       "      <td>41.0</td>\n",
       "      <td>ENE</td>\n",
       "      <td>...</td>\n",
       "      <td>82.0</td>\n",
       "      <td>33.0</td>\n",
       "      <td>1010.8</td>\n",
       "      <td>1006.0</td>\n",
       "      <td>7.0</td>\n",
       "      <td>8.0</td>\n",
       "      <td>17.8</td>\n",
       "      <td>29.7</td>\n",
       "      <td>No</td>\n",
       "      <td>No</td>\n",
       "    </tr>\n",
       "    <tr>\n",
       "      <th>...</th>\n",
       "      <td>...</td>\n",
       "      <td>...</td>\n",
       "      <td>...</td>\n",
       "      <td>...</td>\n",
       "      <td>...</td>\n",
       "      <td>...</td>\n",
       "      <td>...</td>\n",
       "      <td>...</td>\n",
       "      <td>...</td>\n",
       "      <td>...</td>\n",
       "      <td>...</td>\n",
       "      <td>...</td>\n",
       "      <td>...</td>\n",
       "      <td>...</td>\n",
       "      <td>...</td>\n",
       "      <td>...</td>\n",
       "      <td>...</td>\n",
       "      <td>...</td>\n",
       "      <td>...</td>\n",
       "      <td>...</td>\n",
       "      <td>...</td>\n",
       "    </tr>\n",
       "    <tr>\n",
       "      <th>145455</th>\n",
       "      <td>2017-06-21</td>\n",
       "      <td>Uluru</td>\n",
       "      <td>2.8</td>\n",
       "      <td>23.4</td>\n",
       "      <td>0.0</td>\n",
       "      <td>NaN</td>\n",
       "      <td>NaN</td>\n",
       "      <td>E</td>\n",
       "      <td>31.0</td>\n",
       "      <td>SE</td>\n",
       "      <td>...</td>\n",
       "      <td>51.0</td>\n",
       "      <td>24.0</td>\n",
       "      <td>1024.6</td>\n",
       "      <td>1020.3</td>\n",
       "      <td>NaN</td>\n",
       "      <td>NaN</td>\n",
       "      <td>10.1</td>\n",
       "      <td>22.4</td>\n",
       "      <td>No</td>\n",
       "      <td>No</td>\n",
       "    </tr>\n",
       "    <tr>\n",
       "      <th>145456</th>\n",
       "      <td>2017-06-22</td>\n",
       "      <td>Uluru</td>\n",
       "      <td>3.6</td>\n",
       "      <td>25.3</td>\n",
       "      <td>0.0</td>\n",
       "      <td>NaN</td>\n",
       "      <td>NaN</td>\n",
       "      <td>NNW</td>\n",
       "      <td>22.0</td>\n",
       "      <td>SE</td>\n",
       "      <td>...</td>\n",
       "      <td>56.0</td>\n",
       "      <td>21.0</td>\n",
       "      <td>1023.5</td>\n",
       "      <td>1019.1</td>\n",
       "      <td>NaN</td>\n",
       "      <td>NaN</td>\n",
       "      <td>10.9</td>\n",
       "      <td>24.5</td>\n",
       "      <td>No</td>\n",
       "      <td>No</td>\n",
       "    </tr>\n",
       "    <tr>\n",
       "      <th>145457</th>\n",
       "      <td>2017-06-23</td>\n",
       "      <td>Uluru</td>\n",
       "      <td>5.4</td>\n",
       "      <td>26.9</td>\n",
       "      <td>0.0</td>\n",
       "      <td>NaN</td>\n",
       "      <td>NaN</td>\n",
       "      <td>N</td>\n",
       "      <td>37.0</td>\n",
       "      <td>SE</td>\n",
       "      <td>...</td>\n",
       "      <td>53.0</td>\n",
       "      <td>24.0</td>\n",
       "      <td>1021.0</td>\n",
       "      <td>1016.8</td>\n",
       "      <td>NaN</td>\n",
       "      <td>NaN</td>\n",
       "      <td>12.5</td>\n",
       "      <td>26.1</td>\n",
       "      <td>No</td>\n",
       "      <td>No</td>\n",
       "    </tr>\n",
       "    <tr>\n",
       "      <th>145458</th>\n",
       "      <td>2017-06-24</td>\n",
       "      <td>Uluru</td>\n",
       "      <td>7.8</td>\n",
       "      <td>27.0</td>\n",
       "      <td>0.0</td>\n",
       "      <td>NaN</td>\n",
       "      <td>NaN</td>\n",
       "      <td>SE</td>\n",
       "      <td>28.0</td>\n",
       "      <td>SSE</td>\n",
       "      <td>...</td>\n",
       "      <td>51.0</td>\n",
       "      <td>24.0</td>\n",
       "      <td>1019.4</td>\n",
       "      <td>1016.5</td>\n",
       "      <td>3.0</td>\n",
       "      <td>2.0</td>\n",
       "      <td>15.1</td>\n",
       "      <td>26.0</td>\n",
       "      <td>No</td>\n",
       "      <td>No</td>\n",
       "    </tr>\n",
       "    <tr>\n",
       "      <th>145459</th>\n",
       "      <td>2017-06-25</td>\n",
       "      <td>Uluru</td>\n",
       "      <td>14.9</td>\n",
       "      <td>NaN</td>\n",
       "      <td>0.0</td>\n",
       "      <td>NaN</td>\n",
       "      <td>NaN</td>\n",
       "      <td>NaN</td>\n",
       "      <td>NaN</td>\n",
       "      <td>ESE</td>\n",
       "      <td>...</td>\n",
       "      <td>62.0</td>\n",
       "      <td>36.0</td>\n",
       "      <td>1020.2</td>\n",
       "      <td>1017.9</td>\n",
       "      <td>8.0</td>\n",
       "      <td>8.0</td>\n",
       "      <td>15.0</td>\n",
       "      <td>20.9</td>\n",
       "      <td>No</td>\n",
       "      <td>NaN</td>\n",
       "    </tr>\n",
       "  </tbody>\n",
       "</table>\n",
       "<p>145460 rows × 23 columns</p>\n",
       "</div>"
      ],
      "text/plain": [
       "              Date Location  MinTemp  MaxTemp  Rainfall  Evaporation  \\\n",
       "0       2008-12-01   Albury     13.4     22.9       0.6          NaN   \n",
       "1       2008-12-02   Albury      7.4     25.1       0.0          NaN   \n",
       "2       2008-12-03   Albury     12.9     25.7       0.0          NaN   \n",
       "3       2008-12-04   Albury      9.2     28.0       0.0          NaN   \n",
       "4       2008-12-05   Albury     17.5     32.3       1.0          NaN   \n",
       "...            ...      ...      ...      ...       ...          ...   \n",
       "145455  2017-06-21    Uluru      2.8     23.4       0.0          NaN   \n",
       "145456  2017-06-22    Uluru      3.6     25.3       0.0          NaN   \n",
       "145457  2017-06-23    Uluru      5.4     26.9       0.0          NaN   \n",
       "145458  2017-06-24    Uluru      7.8     27.0       0.0          NaN   \n",
       "145459  2017-06-25    Uluru     14.9      NaN       0.0          NaN   \n",
       "\n",
       "        Sunshine WindGustDir  WindGustSpeed WindDir9am  ... Humidity9am  \\\n",
       "0            NaN           W           44.0          W  ...        71.0   \n",
       "1            NaN         WNW           44.0        NNW  ...        44.0   \n",
       "2            NaN         WSW           46.0          W  ...        38.0   \n",
       "3            NaN          NE           24.0         SE  ...        45.0   \n",
       "4            NaN           W           41.0        ENE  ...        82.0   \n",
       "...          ...         ...            ...        ...  ...         ...   \n",
       "145455       NaN           E           31.0         SE  ...        51.0   \n",
       "145456       NaN         NNW           22.0         SE  ...        56.0   \n",
       "145457       NaN           N           37.0         SE  ...        53.0   \n",
       "145458       NaN          SE           28.0        SSE  ...        51.0   \n",
       "145459       NaN         NaN            NaN        ESE  ...        62.0   \n",
       "\n",
       "        Humidity3pm  Pressure9am  Pressure3pm  Cloud9am  Cloud3pm  Temp9am  \\\n",
       "0              22.0       1007.7       1007.1       8.0       NaN     16.9   \n",
       "1              25.0       1010.6       1007.8       NaN       NaN     17.2   \n",
       "2              30.0       1007.6       1008.7       NaN       2.0     21.0   \n",
       "3              16.0       1017.6       1012.8       NaN       NaN     18.1   \n",
       "4              33.0       1010.8       1006.0       7.0       8.0     17.8   \n",
       "...             ...          ...          ...       ...       ...      ...   \n",
       "145455         24.0       1024.6       1020.3       NaN       NaN     10.1   \n",
       "145456         21.0       1023.5       1019.1       NaN       NaN     10.9   \n",
       "145457         24.0       1021.0       1016.8       NaN       NaN     12.5   \n",
       "145458         24.0       1019.4       1016.5       3.0       2.0     15.1   \n",
       "145459         36.0       1020.2       1017.9       8.0       8.0     15.0   \n",
       "\n",
       "        Temp3pm  RainToday  RainTomorrow  \n",
       "0          21.8         No            No  \n",
       "1          24.3         No            No  \n",
       "2          23.2         No            No  \n",
       "3          26.5         No            No  \n",
       "4          29.7         No            No  \n",
       "...         ...        ...           ...  \n",
       "145455     22.4         No            No  \n",
       "145456     24.5         No            No  \n",
       "145457     26.1         No            No  \n",
       "145458     26.0         No            No  \n",
       "145459     20.9         No           NaN  \n",
       "\n",
       "[145460 rows x 23 columns]"
      ]
     },
     "execution_count": 3,
     "metadata": {},
     "output_type": "execute_result"
    }
   ],
   "source": [
    "weather_data"
   ]
  },
  {
   "cell_type": "code",
   "execution_count": 4,
   "id": "625bc979",
   "metadata": {
    "execution": {
     "iopub.execute_input": "2023-12-12T20:46:39.324018Z",
     "iopub.status.busy": "2023-12-12T20:46:39.323537Z",
     "iopub.status.idle": "2023-12-12T20:46:39.396200Z",
     "shell.execute_reply": "2023-12-12T20:46:39.394913Z"
    },
    "papermill": {
     "duration": 0.084893,
     "end_time": "2023-12-12T20:46:39.398606",
     "exception": false,
     "start_time": "2023-12-12T20:46:39.313713",
     "status": "completed"
    },
    "tags": []
   },
   "outputs": [
    {
     "name": "stdout",
     "output_type": "stream",
     "text": [
      "<class 'pandas.core.frame.DataFrame'>\n",
      "RangeIndex: 145460 entries, 0 to 145459\n",
      "Data columns (total 23 columns):\n",
      " #   Column         Non-Null Count   Dtype  \n",
      "---  ------         --------------   -----  \n",
      " 0   Date           145460 non-null  object \n",
      " 1   Location       145460 non-null  object \n",
      " 2   MinTemp        143975 non-null  float64\n",
      " 3   MaxTemp        144199 non-null  float64\n",
      " 4   Rainfall       142199 non-null  float64\n",
      " 5   Evaporation    82670 non-null   float64\n",
      " 6   Sunshine       75625 non-null   float64\n",
      " 7   WindGustDir    135134 non-null  object \n",
      " 8   WindGustSpeed  135197 non-null  float64\n",
      " 9   WindDir9am     134894 non-null  object \n",
      " 10  WindDir3pm     141232 non-null  object \n",
      " 11  WindSpeed9am   143693 non-null  float64\n",
      " 12  WindSpeed3pm   142398 non-null  float64\n",
      " 13  Humidity9am    142806 non-null  float64\n",
      " 14  Humidity3pm    140953 non-null  float64\n",
      " 15  Pressure9am    130395 non-null  float64\n",
      " 16  Pressure3pm    130432 non-null  float64\n",
      " 17  Cloud9am       89572 non-null   float64\n",
      " 18  Cloud3pm       86102 non-null   float64\n",
      " 19  Temp9am        143693 non-null  float64\n",
      " 20  Temp3pm        141851 non-null  float64\n",
      " 21  RainToday      142199 non-null  object \n",
      " 22  RainTomorrow   142193 non-null  object \n",
      "dtypes: float64(16), object(7)\n",
      "memory usage: 25.5+ MB\n"
     ]
    }
   ],
   "source": [
    "weather_data.info()"
   ]
  },
  {
   "cell_type": "markdown",
   "id": "c17f436c",
   "metadata": {
    "papermill": {
     "duration": 0.008276,
     "end_time": "2023-12-12T20:46:39.415614",
     "exception": false,
     "start_time": "2023-12-12T20:46:39.407338",
     "status": "completed"
    },
    "tags": []
   },
   "source": [
    "### Check for Missing Data"
   ]
  },
  {
   "cell_type": "code",
   "execution_count": 5,
   "id": "2c34f4b2",
   "metadata": {
    "execution": {
     "iopub.execute_input": "2023-12-12T20:46:39.434473Z",
     "iopub.status.busy": "2023-12-12T20:46:39.434054Z",
     "iopub.status.idle": "2023-12-12T20:46:39.489768Z",
     "shell.execute_reply": "2023-12-12T20:46:39.488612Z"
    },
    "papermill": {
     "duration": 0.067757,
     "end_time": "2023-12-12T20:46:39.492083",
     "exception": false,
     "start_time": "2023-12-12T20:46:39.424326",
     "status": "completed"
    },
    "tags": []
   },
   "outputs": [
    {
     "data": {
      "text/plain": [
       "Date                 0\n",
       "Location             0\n",
       "MinTemp           1485\n",
       "MaxTemp           1261\n",
       "Rainfall          3261\n",
       "Evaporation      62790\n",
       "Sunshine         69835\n",
       "WindGustDir      10326\n",
       "WindGustSpeed    10263\n",
       "WindDir9am       10566\n",
       "WindDir3pm        4228\n",
       "WindSpeed9am      1767\n",
       "WindSpeed3pm      3062\n",
       "Humidity9am       2654\n",
       "Humidity3pm       4507\n",
       "Pressure9am      15065\n",
       "Pressure3pm      15028\n",
       "Cloud9am         55888\n",
       "Cloud3pm         59358\n",
       "Temp9am           1767\n",
       "Temp3pm           3609\n",
       "RainToday         3261\n",
       "RainTomorrow      3267\n",
       "dtype: int64"
      ]
     },
     "execution_count": 5,
     "metadata": {},
     "output_type": "execute_result"
    }
   ],
   "source": [
    "weather_data.isna().sum()"
   ]
  },
  {
   "cell_type": "markdown",
   "id": "a1cb0236",
   "metadata": {
    "papermill": {
     "duration": 0.008247,
     "end_time": "2023-12-12T20:46:39.509164",
     "exception": false,
     "start_time": "2023-12-12T20:46:39.500917",
     "status": "completed"
    },
    "tags": []
   },
   "source": [
    "Drop date column since it has too many unique values and only include rows with a label. Convert the final column into a binary label."
   ]
  },
  {
   "cell_type": "code",
   "execution_count": 6,
   "id": "fe6c7478",
   "metadata": {
    "execution": {
     "iopub.execute_input": "2023-12-12T20:46:39.528459Z",
     "iopub.status.busy": "2023-12-12T20:46:39.527503Z",
     "iopub.status.idle": "2023-12-12T20:46:39.598181Z",
     "shell.execute_reply": "2023-12-12T20:46:39.597082Z"
    },
    "papermill": {
     "duration": 0.082955,
     "end_time": "2023-12-12T20:46:39.600660",
     "exception": false,
     "start_time": "2023-12-12T20:46:39.517705",
     "status": "completed"
    },
    "tags": []
   },
   "outputs": [],
   "source": [
    "weather_data = weather_data.drop(columns = 'Date')\n",
    "weather_data = weather_data[~weather_data['RainTomorrow'].isna()]\n",
    "\n",
    "y = (weather_data['RainTomorrow'] == 'Yes').astype(int) ### Convert last column into label\n",
    "weather_data = weather_data.drop(columns = 'RainTomorrow')"
   ]
  },
  {
   "cell_type": "markdown",
   "id": "363b23f9",
   "metadata": {
    "papermill": {
     "duration": 0.008315,
     "end_time": "2023-12-12T20:46:39.617854",
     "exception": false,
     "start_time": "2023-12-12T20:46:39.609539",
     "status": "completed"
    },
    "tags": []
   },
   "source": [
    "Get List of Numerical and Categorical Columns"
   ]
  },
  {
   "cell_type": "code",
   "execution_count": 7,
   "id": "cc921d24",
   "metadata": {
    "execution": {
     "iopub.execute_input": "2023-12-12T20:46:39.636801Z",
     "iopub.status.busy": "2023-12-12T20:46:39.636412Z",
     "iopub.status.idle": "2023-12-12T20:46:39.642290Z",
     "shell.execute_reply": "2023-12-12T20:46:39.641406Z"
    },
    "papermill": {
     "duration": 0.017687,
     "end_time": "2023-12-12T20:46:39.644248",
     "exception": false,
     "start_time": "2023-12-12T20:46:39.626561",
     "status": "completed"
    },
    "tags": []
   },
   "outputs": [],
   "source": [
    "column_dtypes = weather_data.dtypes\n",
    "categorical_columns = column_dtypes[column_dtypes == 'object'].index.to_list()\n",
    "numerical_columns = column_dtypes[column_dtypes != 'object'].index.to_list()"
   ]
  },
  {
   "cell_type": "markdown",
   "id": "070a4c88",
   "metadata": {
    "papermill": {
     "duration": 0.008212,
     "end_time": "2023-12-12T20:46:39.661107",
     "exception": false,
     "start_time": "2023-12-12T20:46:39.652895",
     "status": "completed"
    },
    "tags": []
   },
   "source": [
    "### Impute Data\n",
    "\n",
    "Some of our rows have missing data, instead of dropping those cases which will decrease the size of our dataset significantly we can substiture reasonable values.\n",
    "\n",
    "For categorical columns a reasonable value would be the mode.\n",
    "For numerical columns a reasonable value would be the median."
   ]
  },
  {
   "cell_type": "code",
   "execution_count": 8,
   "id": "8edc3d8a",
   "metadata": {
    "execution": {
     "iopub.execute_input": "2023-12-12T20:46:39.680220Z",
     "iopub.status.busy": "2023-12-12T20:46:39.679812Z",
     "iopub.status.idle": "2023-12-12T20:46:39.838831Z",
     "shell.execute_reply": "2023-12-12T20:46:39.837850Z"
    },
    "papermill": {
     "duration": 0.171265,
     "end_time": "2023-12-12T20:46:39.841008",
     "exception": false,
     "start_time": "2023-12-12T20:46:39.669743",
     "status": "completed"
    },
    "tags": []
   },
   "outputs": [
    {
     "data": {
      "text/plain": [
       "Location       0\n",
       "WindGustDir    0\n",
       "WindDir9am     0\n",
       "WindDir3pm     0\n",
       "RainToday      0\n",
       "dtype: int64"
      ]
     },
     "execution_count": 8,
     "metadata": {},
     "output_type": "execute_result"
    }
   ],
   "source": [
    "def mode_impute(df):\n",
    "    mode = df.mode().iloc[0]\n",
    "    df = df.fillna(mode)\n",
    "    \n",
    "    return df\n",
    "    \n",
    "mode_impute(weather_data[categorical_columns]).isna().sum()"
   ]
  },
  {
   "cell_type": "code",
   "execution_count": 9,
   "id": "48fb669e",
   "metadata": {
    "execution": {
     "iopub.execute_input": "2023-12-12T20:46:39.861012Z",
     "iopub.status.busy": "2023-12-12T20:46:39.860564Z",
     "iopub.status.idle": "2023-12-12T20:46:39.944963Z",
     "shell.execute_reply": "2023-12-12T20:46:39.943951Z"
    },
    "papermill": {
     "duration": 0.096863,
     "end_time": "2023-12-12T20:46:39.947099",
     "exception": false,
     "start_time": "2023-12-12T20:46:39.850236",
     "status": "completed"
    },
    "tags": []
   },
   "outputs": [
    {
     "data": {
      "text/plain": [
       "MinTemp          0\n",
       "MaxTemp          0\n",
       "Rainfall         0\n",
       "Evaporation      0\n",
       "Sunshine         0\n",
       "WindGustSpeed    0\n",
       "WindSpeed9am     0\n",
       "WindSpeed3pm     0\n",
       "Humidity9am      0\n",
       "Humidity3pm      0\n",
       "Pressure9am      0\n",
       "Pressure3pm      0\n",
       "Cloud9am         0\n",
       "Cloud3pm         0\n",
       "Temp9am          0\n",
       "Temp3pm          0\n",
       "dtype: int64"
      ]
     },
     "execution_count": 9,
     "metadata": {},
     "output_type": "execute_result"
    }
   ],
   "source": [
    "def median_impute(df):\n",
    "    median = df.median()\n",
    "    df = df.fillna(median)\n",
    "    \n",
    "    return df\n",
    "\n",
    "median_impute(weather_data[numerical_columns]).isna().sum()"
   ]
  },
  {
   "cell_type": "markdown",
   "id": "27782212",
   "metadata": {
    "papermill": {
     "duration": 0.008505,
     "end_time": "2023-12-12T20:46:39.964528",
     "exception": false,
     "start_time": "2023-12-12T20:46:39.956023",
     "status": "completed"
    },
    "tags": []
   },
   "source": [
    "### Check For Class Imbalance "
   ]
  },
  {
   "cell_type": "code",
   "execution_count": 10,
   "id": "0524ae81",
   "metadata": {
    "execution": {
     "iopub.execute_input": "2023-12-12T20:46:39.984227Z",
     "iopub.status.busy": "2023-12-12T20:46:39.983655Z",
     "iopub.status.idle": "2023-12-12T20:46:40.249155Z",
     "shell.execute_reply": "2023-12-12T20:46:40.248314Z"
    },
    "papermill": {
     "duration": 0.277872,
     "end_time": "2023-12-12T20:46:40.251350",
     "exception": false,
     "start_time": "2023-12-12T20:46:39.973478",
     "status": "completed"
    },
    "tags": []
   },
   "outputs": [
    {
     "data": {
      "text/plain": [
       "<Axes: xlabel='RainTomorrow'>"
      ]
     },
     "execution_count": 10,
     "metadata": {},
     "output_type": "execute_result"
    },
    {
     "data": {
      "image/png": "[encoded data removed]",
      "text/plain": [
       "<Figure size 640x480 with 1 Axes>"
      ]
     },
     "metadata": {},
     "output_type": "display_data"
    }
   ],
   "source": [
    "y.value_counts().plot.bar()"
   ]
  },
  {
   "cell_type": "markdown",
   "id": "7f566f47",
   "metadata": {
    "papermill": {
     "duration": 0.00887,
     "end_time": "2023-12-12T20:46:40.269465",
     "exception": false,
     "start_time": "2023-12-12T20:46:40.260595",
     "status": "completed"
    },
    "tags": []
   },
   "source": [
    "### One Hot Encode Categorical Columns\n",
    "\n",
    "Categorical data can't be used in deep learning directly since models only accept numbers. For the case of data that can be boiled down to True or False we can replace True values with 1 and False values with 0. For the case of categorical data with more than 2 values it can take on for example a columns that can take on the values of red blue and green we can seperate each columns into red present, blue present, and green present, turning into 3 different binary cases and converting it into its numerical representation.\n",
    "\n",
    "<img src=\"https://www.statology.org/wp-content/uploads/2021/09/oneHot1.png\" alt=\"How to Perform One-Hot Encoding in Python - Statology\"/>"
   ]
  },
  {
   "cell_type": "code",
   "execution_count": 11,
   "id": "2b1288da",
   "metadata": {
    "execution": {
     "iopub.execute_input": "2023-12-12T20:46:40.289912Z",
     "iopub.status.busy": "2023-12-12T20:46:40.288842Z",
     "iopub.status.idle": "2023-12-12T20:46:40.293433Z",
     "shell.execute_reply": "2023-12-12T20:46:40.292685Z"
    },
    "papermill": {
     "duration": 0.01666,
     "end_time": "2023-12-12T20:46:40.295253",
     "exception": false,
     "start_time": "2023-12-12T20:46:40.278593",
     "status": "completed"
    },
    "tags": []
   },
   "outputs": [],
   "source": [
    "def one_hot_encode(df):\n",
    "    return pd.get_dummies(df[categorical_columns]).astype(int)"
   ]
  },
  {
   "cell_type": "markdown",
   "id": "0796c7ff",
   "metadata": {
    "papermill": {
     "duration": 0.00871,
     "end_time": "2023-12-12T20:46:40.313159",
     "exception": false,
     "start_time": "2023-12-12T20:46:40.304449",
     "status": "completed"
    },
    "tags": []
   },
   "source": [
    "### Normalize Data"
   ]
  },
  {
   "cell_type": "code",
   "execution_count": 12,
   "id": "3ba33f66",
   "metadata": {
    "execution": {
     "iopub.execute_input": "2023-12-12T20:46:40.333446Z",
     "iopub.status.busy": "2023-12-12T20:46:40.332363Z",
     "iopub.status.idle": "2023-12-12T20:46:40.337326Z",
     "shell.execute_reply": "2023-12-12T20:46:40.336380Z"
    },
    "papermill": {
     "duration": 0.017036,
     "end_time": "2023-12-12T20:46:40.339294",
     "exception": false,
     "start_time": "2023-12-12T20:46:40.322258",
     "status": "completed"
    },
    "tags": []
   },
   "outputs": [],
   "source": [
    "def normalize_data(df):\n",
    "    return (df - df.mean())/df.std()"
   ]
  },
  {
   "cell_type": "markdown",
   "id": "f1c15b12",
   "metadata": {
    "papermill": {
     "duration": 0.008687,
     "end_time": "2023-12-12T20:46:40.357073",
     "exception": false,
     "start_time": "2023-12-12T20:46:40.348386",
     "status": "completed"
    },
    "tags": []
   },
   "source": [
    "### Construct Dataset"
   ]
  },
  {
   "cell_type": "code",
   "execution_count": 13,
   "id": "7dc8023f",
   "metadata": {
    "execution": {
     "iopub.execute_input": "2023-12-12T20:46:40.431716Z",
     "iopub.status.busy": "2023-12-12T20:46:40.430644Z",
     "iopub.status.idle": "2023-12-12T20:46:40.436029Z",
     "shell.execute_reply": "2023-12-12T20:46:40.435343Z"
    },
    "papermill": {
     "duration": 0.017813,
     "end_time": "2023-12-12T20:46:40.437923",
     "exception": false,
     "start_time": "2023-12-12T20:46:40.420110",
     "status": "completed"
    },
    "tags": []
   },
   "outputs": [],
   "source": [
    "def create_dataset(df):\n",
    "    categorical_data = df[categorical_columns]\n",
    "    numerical_data = df[numerical_columns]\n",
    "    \n",
    "    categorical_data = mode_impute(categorical_data)\n",
    "    numerical_data = median_impute(numerical_data)\n",
    "    \n",
    "    categorical_data = one_hot_encode(categorical_data)\n",
    "    numerical_data = normalize_data(numerical_data)\n",
    "    \n",
    "    full_df = pd.concat([categorical_data, numerical_data], axis = 1)\n",
    "    \n",
    "    return full_df"
   ]
  },
  {
   "cell_type": "code",
   "execution_count": 14,
   "id": "0bcfe76f",
   "metadata": {
    "execution": {
     "iopub.execute_input": "2023-12-12T20:46:40.458467Z",
     "iopub.status.busy": "2023-12-12T20:46:40.457799Z",
     "iopub.status.idle": "2023-12-12T20:46:40.999619Z",
     "shell.execute_reply": "2023-12-12T20:46:40.998606Z"
    },
    "papermill": {
     "duration": 0.555095,
     "end_time": "2023-12-12T20:46:41.002315",
     "exception": false,
     "start_time": "2023-12-12T20:46:40.447220",
     "status": "completed"
    },
    "tags": []
   },
   "outputs": [],
   "source": [
    "X = create_dataset(weather_data)"
   ]
  },
  {
   "cell_type": "markdown",
   "id": "187231c1",
   "metadata": {
    "papermill": {
     "duration": 0.009392,
     "end_time": "2023-12-12T20:46:41.021481",
     "exception": false,
     "start_time": "2023-12-12T20:46:41.012089",
     "status": "completed"
    },
    "tags": []
   },
   "source": [
    "### Split into Training and Validation"
   ]
  },
  {
   "cell_type": "code",
   "execution_count": 15,
   "id": "61a74906",
   "metadata": {
    "execution": {
     "iopub.execute_input": "2023-12-12T20:46:41.042344Z",
     "iopub.status.busy": "2023-12-12T20:46:41.041556Z",
     "iopub.status.idle": "2023-12-12T20:46:42.201532Z",
     "shell.execute_reply": "2023-12-12T20:46:42.200269Z"
    },
    "papermill": {
     "duration": 1.173292,
     "end_time": "2023-12-12T20:46:42.204225",
     "exception": false,
     "start_time": "2023-12-12T20:46:41.030933",
     "status": "completed"
    },
    "tags": []
   },
   "outputs": [],
   "source": [
    "from sklearn.model_selection import train_test_split\n",
    "\n",
    "X_train, X_val, y_train, y_val = train_test_split(X, y, test_size = 0.1)"
   ]
  },
  {
   "cell_type": "code",
   "execution_count": 16,
   "id": "13c3a51a",
   "metadata": {
    "execution": {
     "iopub.execute_input": "2023-12-12T20:46:42.225521Z",
     "iopub.status.busy": "2023-12-12T20:46:42.225077Z",
     "iopub.status.idle": "2023-12-12T20:46:42.232012Z",
     "shell.execute_reply": "2023-12-12T20:46:42.230968Z"
    },
    "papermill": {
     "duration": 0.020151,
     "end_time": "2023-12-12T20:46:42.234313",
     "exception": false,
     "start_time": "2023-12-12T20:46:42.214162",
     "status": "completed"
    },
    "tags": []
   },
   "outputs": [
    {
     "data": {
      "text/plain": [
       "((127973, 115), (14220, 115), (127973,), (14220,))"
      ]
     },
     "execution_count": 16,
     "metadata": {},
     "output_type": "execute_result"
    }
   ],
   "source": [
    "X_train.shape, X_val.shape, y_train.shape, y_val.shape"
   ]
  },
  {
   "cell_type": "markdown",
   "id": "7cc41904",
   "metadata": {
    "papermill": {
     "duration": 0.009413,
     "end_time": "2023-12-12T20:46:42.253412",
     "exception": false,
     "start_time": "2023-12-12T20:46:42.243999",
     "status": "completed"
    },
    "tags": []
   },
   "source": [
    "### Create Model\n",
    "\n",
    "Here we use a few regularization techniques: dropout, weight decay (with adamW), and label smoothing. We also use the GeLU activation function."
   ]
  },
  {
   "cell_type": "code",
   "execution_count": 17,
   "id": "d0b5b002",
   "metadata": {
    "execution": {
     "iopub.execute_input": "2023-12-12T20:46:42.274976Z",
     "iopub.status.busy": "2023-12-12T20:46:42.274610Z",
     "iopub.status.idle": "2023-12-12T20:46:42.281681Z",
     "shell.execute_reply": "2023-12-12T20:46:42.280649Z"
    },
    "papermill": {
     "duration": 0.020778,
     "end_time": "2023-12-12T20:46:42.283756",
     "exception": false,
     "start_time": "2023-12-12T20:46:42.262978",
     "status": "completed"
    },
    "tags": []
   },
   "outputs": [],
   "source": [
    "def create_model():\n",
    "    \n",
    "    model = keras.Sequential([\n",
    "        keras.layers.Input(shape = (X.shape[1])),\n",
    "        keras.layers.Dense(256, activation = 'gelu'),\n",
    "        keras.layers.Dropout(0.25),\n",
    "        keras.layers.Dense(128, activation = 'gelu'),\n",
    "        keras.layers.Dropout(0.5),\n",
    "        #keras.layers.Dense(64, activation = 'gelu'),\n",
    "        #keras.layers.Dropout(0.5),\n",
    "        keras.layers.Dense(1, activation = 'sigmoid')\n",
    "    ])\n",
    "    \n",
    "    optimizer = keras.optimizers.AdamW(learning_rate = 3e-3, weight_decay = 1e-1)\n",
    "    loss = keras.losses.BinaryCrossentropy(label_smoothing = 1e-1)\n",
    "    \n",
    "    model.compile(optimizer = optimizer, loss = loss, metrics = ['accuracy', keras.metrics.AUC(curve = 'pr')])\n",
    "    \n",
    "    return model"
   ]
  },
  {
   "cell_type": "code",
   "execution_count": 18,
   "id": "f26a703e",
   "metadata": {
    "execution": {
     "iopub.execute_input": "2023-12-12T20:46:42.305651Z",
     "iopub.status.busy": "2023-12-12T20:46:42.305269Z",
     "iopub.status.idle": "2023-12-12T20:46:42.658629Z",
     "shell.execute_reply": "2023-12-12T20:46:42.657441Z"
    },
    "papermill": {
     "duration": 0.372751,
     "end_time": "2023-12-12T20:46:42.666522",
     "exception": false,
     "start_time": "2023-12-12T20:46:42.293771",
     "status": "completed"
    },
    "tags": []
   },
   "outputs": [
    {
     "name": "stdout",
     "output_type": "stream",
     "text": [
      "Model: \"sequential\"\n",
      "_________________________________________________________________\n",
      " Layer (type)                Output Shape              Param #   \n",
      "=================================================================\n",
      " dense (Dense)               (None, 256)               29696     \n",
      "                                                                 \n",
      " dropout (Dropout)           (None, 256)               0         \n",
      "                                                                 \n",
      " dense_1 (Dense)             (None, 128)               32896     \n",
      "                                                                 \n",
      " dropout_1 (Dropout)         (None, 128)               0         \n",
      "                                                                 \n",
      " dense_2 (Dense)             (None, 1)                 129       \n",
      "                                                                 \n",
      "=================================================================\n",
      "Total params: 62721 (245.00 KB)\n",
      "Trainable params: 62721 (245.00 KB)\n",
      "Non-trainable params: 0 (0.00 Byte)\n",
      "_________________________________________________________________\n"
     ]
    }
   ],
   "source": [
    "create_model().summary()"
   ]
  },
  {
   "cell_type": "markdown",
   "id": "4511029d",
   "metadata": {
    "papermill": {
     "duration": 0.010606,
     "end_time": "2023-12-12T20:46:42.688133",
     "exception": false,
     "start_time": "2023-12-12T20:46:42.677527",
     "status": "completed"
    },
    "tags": []
   },
   "source": [
    "### Train Model\n",
    "\n",
    "We use a cosine annealing with linear warmup learning rate schedule."
   ]
  },
  {
   "cell_type": "code",
   "execution_count": 19,
   "id": "8bf99860",
   "metadata": {
    "execution": {
     "iopub.execute_input": "2023-12-12T20:46:42.712064Z",
     "iopub.status.busy": "2023-12-12T20:46:42.711680Z",
     "iopub.status.idle": "2023-12-12T20:51:06.476301Z",
     "shell.execute_reply": "2023-12-12T20:51:06.475036Z"
    },
    "papermill": {
     "duration": 263.780272,
     "end_time": "2023-12-12T20:51:06.479278",
     "exception": false,
     "start_time": "2023-12-12T20:46:42.699006",
     "status": "completed"
    },
    "tags": []
   },
   "outputs": [
    {
     "name": "stdout",
     "output_type": "stream",
     "text": [
      "Epoch 1/20\n",
      "4000/4000 [==============================] - 12s 3ms/step - loss: 0.4600 - accuracy: 0.8334 - auc_1: 0.6478 - val_loss: 0.4396 - val_accuracy: 0.8396 - val_auc_1: 0.7007 - lr: 5.0000e-05\n",
      "Epoch 2/20\n",
      "4000/4000 [==============================] - 10s 3ms/step - loss: 0.4335 - accuracy: 0.8487 - auc_1: 0.7057 - val_loss: 0.4278 - val_accuracy: 0.8511 - val_auc_1: 0.7235 - lr: 0.0015\n",
      "Epoch 3/20\n",
      "4000/4000 [==============================] - 10s 3ms/step - loss: 0.4310 - accuracy: 0.8521 - auc_1: 0.7113 - val_loss: 0.4291 - val_accuracy: 0.8514 - val_auc_1: 0.7310 - lr: 0.0030\n",
      "Epoch 4/20\n",
      "4000/4000 [==============================] - 11s 3ms/step - loss: 0.4292 - accuracy: 0.8531 - auc_1: 0.7167 - val_loss: 0.4268 - val_accuracy: 0.8492 - val_auc_1: 0.7338 - lr: 0.0030\n",
      "Epoch 5/20\n",
      "4000/4000 [==============================] - 10s 3ms/step - loss: 0.4276 - accuracy: 0.8537 - auc_1: 0.7200 - val_loss: 0.4290 - val_accuracy: 0.8523 - val_auc_1: 0.7324 - lr: 0.0029\n",
      "Epoch 6/20\n",
      "4000/4000 [==============================] - 10s 3ms/step - loss: 0.4271 - accuracy: 0.8540 - auc_1: 0.7219 - val_loss: 0.4243 - val_accuracy: 0.8523 - val_auc_1: 0.7366 - lr: 0.0028\n",
      "Epoch 7/20\n",
      "4000/4000 [==============================] - 11s 3ms/step - loss: 0.4257 - accuracy: 0.8562 - auc_1: 0.7245 - val_loss: 0.4261 - val_accuracy: 0.8508 - val_auc_1: 0.7303 - lr: 0.0026\n",
      "Epoch 8/20\n",
      "4000/4000 [==============================] - 10s 3ms/step - loss: 0.4247 - accuracy: 0.8552 - auc_1: 0.7269 - val_loss: 0.4252 - val_accuracy: 0.8520 - val_auc_1: 0.7368 - lr: 0.0025\n",
      "Epoch 9/20\n",
      "4000/4000 [==============================] - 10s 3ms/step - loss: 0.4238 - accuracy: 0.8564 - auc_1: 0.7278 - val_loss: 0.4254 - val_accuracy: 0.8539 - val_auc_1: 0.7369 - lr: 0.0022\n",
      "Epoch 10/20\n",
      "4000/4000 [==============================] - 11s 3ms/step - loss: 0.4224 - accuracy: 0.8579 - auc_1: 0.7313 - val_loss: 0.4236 - val_accuracy: 0.8523 - val_auc_1: 0.7353 - lr: 0.0020\n",
      "Epoch 11/20\n",
      "4000/4000 [==============================] - 10s 3ms/step - loss: 0.4214 - accuracy: 0.8577 - auc_1: 0.7337 - val_loss: 0.4224 - val_accuracy: 0.8544 - val_auc_1: 0.7415 - lr: 0.0018\n",
      "Epoch 12/20\n",
      "4000/4000 [==============================] - 10s 3ms/step - loss: 0.4192 - accuracy: 0.8589 - auc_1: 0.7382 - val_loss: 0.4254 - val_accuracy: 0.8522 - val_auc_1: 0.7373 - lr: 0.0015\n",
      "Epoch 13/20\n",
      "4000/4000 [==============================] - 10s 3ms/step - loss: 0.4178 - accuracy: 0.8587 - auc_1: 0.7415 - val_loss: 0.4222 - val_accuracy: 0.8537 - val_auc_1: 0.7393 - lr: 0.0012\n",
      "Epoch 14/20\n",
      "4000/4000 [==============================] - 10s 3ms/step - loss: 0.4158 - accuracy: 0.8610 - auc_1: 0.7462 - val_loss: 0.4193 - val_accuracy: 0.8549 - val_auc_1: 0.7467 - lr: 9.8697e-04\n",
      "Epoch 15/20\n",
      "4000/4000 [==============================] - 10s 3ms/step - loss: 0.4143 - accuracy: 0.8613 - auc_1: 0.7497 - val_loss: 0.4208 - val_accuracy: 0.8560 - val_auc_1: 0.7461 - lr: 7.5000e-04\n",
      "Epoch 16/20\n",
      "4000/4000 [==============================] - 11s 3ms/step - loss: 0.4128 - accuracy: 0.8622 - auc_1: 0.7529 - val_loss: 0.4175 - val_accuracy: 0.8556 - val_auc_1: 0.7487 - lr: 5.3582e-04\n",
      "Epoch 17/20\n",
      "4000/4000 [==============================] - 10s 3ms/step - loss: 0.4115 - accuracy: 0.8629 - auc_1: 0.7556 - val_loss: 0.4174 - val_accuracy: 0.8582 - val_auc_1: 0.7517 - lr: 3.5093e-04\n",
      "Epoch 18/20\n",
      "4000/4000 [==============================] - 10s 3ms/step - loss: 0.4100 - accuracy: 0.8638 - auc_1: 0.7594 - val_loss: 0.4169 - val_accuracy: 0.8563 - val_auc_1: 0.7523 - lr: 2.0096e-04\n",
      "Epoch 19/20\n",
      "4000/4000 [==============================] - 10s 3ms/step - loss: 0.4092 - accuracy: 0.8647 - auc_1: 0.7607 - val_loss: 0.4154 - val_accuracy: 0.8569 - val_auc_1: 0.7541 - lr: 9.0461e-05\n",
      "Epoch 20/20\n",
      "4000/4000 [==============================] - 10s 3ms/step - loss: 0.4081 - accuracy: 0.8655 - auc_1: 0.7636 - val_loss: 0.4152 - val_accuracy: 0.8569 - val_auc_1: 0.7543 - lr: 2.2788e-05\n"
     ]
    }
   ],
   "source": [
    "EPOCHS = 20\n",
    "\n",
    "model = create_model()\n",
    "lr_schedule = keras.callbacks.LearningRateScheduler(\n",
    "    keras.optimizers.schedules.CosineDecay(initial_learning_rate = 5e-5, decay_steps = EPOCHS - EPOCHS//10, warmup_target = 3e-3, warmup_steps = EPOCHS//10)\n",
    ")\n",
    "\n",
    "history = model.fit(x = X_train, y = y_train, batch_size = 32, validation_data = (X_val, y_val), epochs = EPOCHS, callbacks = [lr_schedule])"
   ]
  },
  {
   "cell_type": "markdown",
   "id": "3866dde8",
   "metadata": {
    "papermill": {
     "duration": 0.259714,
     "end_time": "2023-12-12T20:51:07.001809",
     "exception": false,
     "start_time": "2023-12-12T20:51:06.742095",
     "status": "completed"
    },
    "tags": []
   },
   "source": [
    "### View Results"
   ]
  },
  {
   "cell_type": "code",
   "execution_count": 20,
   "id": "a41ff4c3",
   "metadata": {
    "execution": {
     "iopub.execute_input": "2023-12-12T20:51:07.587333Z",
     "iopub.status.busy": "2023-12-12T20:51:07.586901Z",
     "iopub.status.idle": "2023-12-12T20:51:07.593056Z",
     "shell.execute_reply": "2023-12-12T20:51:07.592262Z"
    },
    "papermill": {
     "duration": 0.332888,
     "end_time": "2023-12-12T20:51:07.595090",
     "exception": false,
     "start_time": "2023-12-12T20:51:07.262202",
     "status": "completed"
    },
    "tags": []
   },
   "outputs": [],
   "source": [
    "training_df = pd.DataFrame(history.history)"
   ]
  },
  {
   "cell_type": "code",
   "execution_count": 21,
   "id": "99f99236",
   "metadata": {
    "execution": {
     "iopub.execute_input": "2023-12-12T20:51:08.117199Z",
     "iopub.status.busy": "2023-12-12T20:51:08.116789Z",
     "iopub.status.idle": "2023-12-12T20:51:08.383692Z",
     "shell.execute_reply": "2023-12-12T20:51:08.382253Z"
    },
    "papermill": {
     "duration": 0.53215,
     "end_time": "2023-12-12T20:51:08.386092",
     "exception": false,
     "start_time": "2023-12-12T20:51:07.853942",
     "status": "completed"
    },
    "tags": []
   },
   "outputs": [
    {
     "data": {
      "text/plain": [
       "<Axes: >"
      ]
     },
     "execution_count": 21,
     "metadata": {},
     "output_type": "execute_result"
    },
    {
     "data": {
      "image/png": "[encoded data removed]",
      "text/plain": [
       "<Figure size 640x480 with 1 Axes>"
      ]
     },
     "metadata": {},
     "output_type": "display_data"
    }
   ],
   "source": [
    "training_df['lr'].plot()"
   ]
  },
  {
   "cell_type": "code",
   "execution_count": 22,
   "id": "92160c00",
   "metadata": {
    "execution": {
     "iopub.execute_input": "2023-12-12T20:51:08.905851Z",
     "iopub.status.busy": "2023-12-12T20:51:08.905444Z",
     "iopub.status.idle": "2023-12-12T20:51:09.169946Z",
     "shell.execute_reply": "2023-12-12T20:51:09.169107Z"
    },
    "papermill": {
     "duration": 0.5262,
     "end_time": "2023-12-12T20:51:09.172036",
     "exception": false,
     "start_time": "2023-12-12T20:51:08.645836",
     "status": "completed"
    },
    "tags": []
   },
   "outputs": [
    {
     "data": {
      "text/plain": [
       "<Axes: >"
      ]
     },
     "execution_count": 22,
     "metadata": {},
     "output_type": "execute_result"
    },
    {
     "data": {
      "image/png": "[encoded data removed]",
      "text/plain": [
       "<Figure size 640x480 with 1 Axes>"
      ]
     },
     "metadata": {},
     "output_type": "display_data"
    }
   ],
   "source": [
    "training_df['accuracy'].plot()\n",
    "training_df['val_accuracy'].plot()"
   ]
  },
  {
   "cell_type": "code",
   "execution_count": 23,
   "id": "35a2cfed",
   "metadata": {
    "execution": {
     "iopub.execute_input": "2023-12-12T20:51:09.693700Z",
     "iopub.status.busy": "2023-12-12T20:51:09.693313Z",
     "iopub.status.idle": "2023-12-12T20:51:09.955543Z",
     "shell.execute_reply": "2023-12-12T20:51:09.954571Z"
    },
    "papermill": {
     "duration": 0.526287,
     "end_time": "2023-12-12T20:51:09.957886",
     "exception": false,
     "start_time": "2023-12-12T20:51:09.431599",
     "status": "completed"
    },
    "tags": []
   },
   "outputs": [
    {
     "data": {
      "text/plain": [
       "<Axes: >"
      ]
     },
     "execution_count": 23,
     "metadata": {},
     "output_type": "execute_result"
    },
    {
     "data": {
      "image/png": "[encoded data removed]",
      "text/plain": [
       "<Figure size 640x480 with 1 Axes>"
      ]
     },
     "metadata": {},
     "output_type": "display_data"
    }
   ],
   "source": [
    "training_df['loss'].plot()\n",
    "training_df['val_loss'].plot()"
   ]
  },
  {
   "cell_type": "code",
   "execution_count": 24,
   "id": "8bc38772",
   "metadata": {
    "execution": {
     "iopub.execute_input": "2023-12-12T20:51:10.539595Z",
     "iopub.status.busy": "2023-12-12T20:51:10.539191Z",
     "iopub.status.idle": "2023-12-12T20:51:11.316260Z",
     "shell.execute_reply": "2023-12-12T20:51:11.315083Z"
    },
    "papermill": {
     "duration": 1.096994,
     "end_time": "2023-12-12T20:51:11.318497",
     "exception": false,
     "start_time": "2023-12-12T20:51:10.221503",
     "status": "completed"
    },
    "tags": []
   },
   "outputs": [
    {
     "name": "stdout",
     "output_type": "stream",
     "text": [
      "445/445 [==============================] - 1s 2ms/step - loss: 0.4152 - accuracy: 0.8569 - auc_1: 0.7543\n"
     ]
    },
    {
     "data": {
      "text/plain": [
       "[0.4152383804321289, 0.8568916916847229, 0.7543324828147888]"
      ]
     },
     "execution_count": 24,
     "metadata": {},
     "output_type": "execute_result"
    }
   ],
   "source": [
    "model.evaluate(X_val, y_val)"
   ]
  },
  {
   "cell_type": "markdown",
   "id": "ee8da9fa",
   "metadata": {
    "papermill": {
     "duration": 0.263005,
     "end_time": "2023-12-12T20:51:11.865311",
     "exception": false,
     "start_time": "2023-12-12T20:51:11.602306",
     "status": "completed"
    },
    "tags": []
   },
   "source": [
    "Our model is preforming decently"
   ]
  }
 ],
 "metadata": {
  "kaggle": {
   "accelerator": "none",
   "dataSources": [
    {
     "datasetId": 6012,
     "sourceId": 1733506,
     "sourceType": "datasetVersion"
    }
   ],
   "dockerImageVersionId": 30587,
   "isGpuEnabled": false,
   "isInternetEnabled": true,
   "language": "python",
   "sourceType": "notebook"
  },
  "kernelspec": {
   "display_name": "Python 3",
   "language": "python",
   "name": "python3"
  },
  "language_info": {
   "codemirror_mode": {
    "name": "ipython",
    "version": 3
   },
   "file_extension": ".py",
   "mimetype": "text/x-python",
   "name": "python",
   "nbconvert_exporter": "python",
   "pygments_lexer": "ipython3",
   "version": "3.10.12"
  },
  "papermill": {
   "default_parameters": {},
   "duration": 291.185919,
   "end_time": "2023-12-12T20:51:13.657260",
   "environment_variables": {},
   "exception": null,
   "input_path": "__notebook__.ipynb",
   "output_path": "__notebook__.ipynb",
   "parameters": {},
   "start_time": "2023-12-12T20:46:22.471341",
   "version": "2.4.0"
  }
 },
 "nbformat": 4,
 "nbformat_minor": 5
}
