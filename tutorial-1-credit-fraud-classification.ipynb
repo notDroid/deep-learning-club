{
 "cells": [
  {
   "cell_type": "markdown",
   "id": "715fa88d",
   "metadata": {
    "papermill": {
     "duration": 0.018745,
     "end_time": "2023-09-07T13:17:41.398346",
     "exception": false,
     "start_time": "2023-09-07T13:17:41.379601",
     "status": "completed"
    },
    "tags": []
   },
   "source": [
    "# Credit Fraud Classificaiton Tutorial"
   ]
  },
  {
   "cell_type": "markdown",
   "id": "0b7b6253",
   "metadata": {
    "papermill": {
     "duration": 0.017766,
     "end_time": "2023-09-07T13:17:41.434415",
     "exception": false,
     "start_time": "2023-09-07T13:17:41.416649",
     "status": "completed"
    },
    "tags": []
   },
   "source": [
    "### 1. Basic data manipulation with pandas\n",
    "### 2. Creating a classificaiton model using tensorflow and keras\n",
    "### 3. Addresssing class imbalance using class weights\n",
    "### 4. Evaluating the model with the f1 score"
   ]
  },
  {
   "cell_type": "markdown",
   "id": "cdfe339f",
   "metadata": {
    "papermill": {
     "duration": 0.017813,
     "end_time": "2023-09-07T13:17:41.470343",
     "exception": false,
     "start_time": "2023-09-07T13:17:41.452530",
     "status": "completed"
    },
    "tags": []
   },
   "source": [
    "## Import Packages"
   ]
  },
  {
   "cell_type": "code",
   "execution_count": 1,
   "id": "b417b737",
   "metadata": {
    "_cell_guid": "b1076dfc-b9ad-4769-8c92-a6c4dae69d19",
    "_uuid": "8f2839f25d086af736a60e9eeb907d3b93b6e0e5",
    "execution": {
     "iopub.execute_input": "2023-09-07T13:17:41.509120Z",
     "iopub.status.busy": "2023-09-07T13:17:41.508259Z",
     "iopub.status.idle": "2023-09-07T13:17:52.214694Z",
     "shell.execute_reply": "2023-09-07T13:17:52.213550Z"
    },
    "papermill": {
     "duration": 10.729214,
     "end_time": "2023-09-07T13:17:52.217571",
     "exception": false,
     "start_time": "2023-09-07T13:17:41.488357",
     "status": "completed"
    },
    "tags": []
   },
   "outputs": [],
   "source": [
    "import numpy as np #linear algebra and array manipulation\n",
    "import pandas as pd #DataFrame, data manipulation\n",
    "import tensorflow as tf #Deep Learning Framework\n",
    "import tensorflow.keras as keras #built on top of tensorflow\n",
    "import tensorflow.keras.layers as tfl #Neural Network layers"
   ]
  },
  {
   "cell_type": "markdown",
   "id": "975abae9",
   "metadata": {
    "papermill": {
     "duration": 0.017775,
     "end_time": "2023-09-07T13:17:52.253659",
     "exception": false,
     "start_time": "2023-09-07T13:17:52.235884",
     "status": "completed"
    },
    "tags": []
   },
   "source": [
    "# Data Processing"
   ]
  },
  {
   "cell_type": "markdown",
   "id": "8f3eb9fe",
   "metadata": {
    "papermill": {
     "duration": 0.017913,
     "end_time": "2023-09-07T13:17:52.290100",
     "exception": false,
     "start_time": "2023-09-07T13:17:52.272187",
     "status": "completed"
    },
    "tags": []
   },
   "source": [
    "## Load Data\n",
    "In the right bar there is a Input section containing all of the data needed. Expand the input and copy the file path so you can load in the data with pandas."
   ]
  },
  {
   "cell_type": "code",
   "execution_count": 2,
   "id": "8c1746c6",
   "metadata": {
    "execution": {
     "iopub.execute_input": "2023-09-07T13:17:52.328646Z",
     "iopub.status.busy": "2023-09-07T13:17:52.327663Z",
     "iopub.status.idle": "2023-09-07T13:17:57.184342Z",
     "shell.execute_reply": "2023-09-07T13:17:57.183196Z"
    },
    "papermill": {
     "duration": 4.879107,
     "end_time": "2023-09-07T13:17:57.187358",
     "exception": false,
     "start_time": "2023-09-07T13:17:52.308251",
     "status": "completed"
    },
    "tags": []
   },
   "outputs": [],
   "source": [
    "#copy file path\n",
    "input_file_path = '/kaggle/input/creditcardfraud/creditcard.csv'\n",
    "\n",
    "#use read_csv command to load the data into a DataFrame\n",
    "credit_data = pd.read_csv(input_file_path)"
   ]
  },
  {
   "cell_type": "markdown",
   "id": "84dc89a6",
   "metadata": {
    "papermill": {
     "duration": 0.018045,
     "end_time": "2023-09-07T13:17:57.223690",
     "exception": false,
     "start_time": "2023-09-07T13:17:57.205645",
     "status": "completed"
    },
    "tags": []
   },
   "source": [
    "In a new cell you can see the data in the dataframe just by putting it on the last line."
   ]
  },
  {
   "cell_type": "code",
   "execution_count": 3,
   "id": "f128aaaf",
   "metadata": {
    "execution": {
     "iopub.execute_input": "2023-09-07T13:17:57.262505Z",
     "iopub.status.busy": "2023-09-07T13:17:57.262067Z",
     "iopub.status.idle": "2023-09-07T13:17:57.393584Z",
     "shell.execute_reply": "2023-09-07T13:17:57.392532Z"
    },
    "papermill": {
     "duration": 0.154223,
     "end_time": "2023-09-07T13:17:57.396216",
     "exception": false,
     "start_time": "2023-09-07T13:17:57.241993",
     "status": "completed"
    },
    "tags": []
   },
   "outputs": [
    {
     "data": {
      "text/html": [
       "<div>\n",
       "<style scoped>\n",
       "    .dataframe tbody tr th:only-of-type {\n",
       "        vertical-align: middle;\n",
       "    }\n",
       "\n",
       "    .dataframe tbody tr th {\n",
       "        vertical-align: top;\n",
       "    }\n",
       "\n",
       "    .dataframe thead th {\n",
       "        text-align: right;\n",
       "    }\n",
       "</style>\n",
       "<table border=\"1\" class=\"dataframe\">\n",
       "  <thead>\n",
       "    <tr style=\"text-align: right;\">\n",
       "      <th></th>\n",
       "      <th>Time</th>\n",
       "      <th>V1</th>\n",
       "      <th>V2</th>\n",
       "      <th>V3</th>\n",
       "      <th>V4</th>\n",
       "      <th>V5</th>\n",
       "      <th>V6</th>\n",
       "      <th>V7</th>\n",
       "      <th>V8</th>\n",
       "      <th>V9</th>\n",
       "      <th>...</th>\n",
       "      <th>V21</th>\n",
       "      <th>V22</th>\n",
       "      <th>V23</th>\n",
       "      <th>V24</th>\n",
       "      <th>V25</th>\n",
       "      <th>V26</th>\n",
       "      <th>V27</th>\n",
       "      <th>V28</th>\n",
       "      <th>Amount</th>\n",
       "      <th>Class</th>\n",
       "    </tr>\n",
       "  </thead>\n",
       "  <tbody>\n",
       "    <tr>\n",
       "      <th>0</th>\n",
       "      <td>0.0</td>\n",
       "      <td>-1.359807</td>\n",
       "      <td>-0.072781</td>\n",
       "      <td>2.536347</td>\n",
       "      <td>1.378155</td>\n",
       "      <td>-0.338321</td>\n",
       "      <td>0.462388</td>\n",
       "      <td>0.239599</td>\n",
       "      <td>0.098698</td>\n",
       "      <td>0.363787</td>\n",
       "      <td>...</td>\n",
       "      <td>-0.018307</td>\n",
       "      <td>0.277838</td>\n",
       "      <td>-0.110474</td>\n",
       "      <td>0.066928</td>\n",
       "      <td>0.128539</td>\n",
       "      <td>-0.189115</td>\n",
       "      <td>0.133558</td>\n",
       "      <td>-0.021053</td>\n",
       "      <td>149.62</td>\n",
       "      <td>0</td>\n",
       "    </tr>\n",
       "    <tr>\n",
       "      <th>1</th>\n",
       "      <td>0.0</td>\n",
       "      <td>1.191857</td>\n",
       "      <td>0.266151</td>\n",
       "      <td>0.166480</td>\n",
       "      <td>0.448154</td>\n",
       "      <td>0.060018</td>\n",
       "      <td>-0.082361</td>\n",
       "      <td>-0.078803</td>\n",
       "      <td>0.085102</td>\n",
       "      <td>-0.255425</td>\n",
       "      <td>...</td>\n",
       "      <td>-0.225775</td>\n",
       "      <td>-0.638672</td>\n",
       "      <td>0.101288</td>\n",
       "      <td>-0.339846</td>\n",
       "      <td>0.167170</td>\n",
       "      <td>0.125895</td>\n",
       "      <td>-0.008983</td>\n",
       "      <td>0.014724</td>\n",
       "      <td>2.69</td>\n",
       "      <td>0</td>\n",
       "    </tr>\n",
       "    <tr>\n",
       "      <th>2</th>\n",
       "      <td>1.0</td>\n",
       "      <td>-1.358354</td>\n",
       "      <td>-1.340163</td>\n",
       "      <td>1.773209</td>\n",
       "      <td>0.379780</td>\n",
       "      <td>-0.503198</td>\n",
       "      <td>1.800499</td>\n",
       "      <td>0.791461</td>\n",
       "      <td>0.247676</td>\n",
       "      <td>-1.514654</td>\n",
       "      <td>...</td>\n",
       "      <td>0.247998</td>\n",
       "      <td>0.771679</td>\n",
       "      <td>0.909412</td>\n",
       "      <td>-0.689281</td>\n",
       "      <td>-0.327642</td>\n",
       "      <td>-0.139097</td>\n",
       "      <td>-0.055353</td>\n",
       "      <td>-0.059752</td>\n",
       "      <td>378.66</td>\n",
       "      <td>0</td>\n",
       "    </tr>\n",
       "    <tr>\n",
       "      <th>3</th>\n",
       "      <td>1.0</td>\n",
       "      <td>-0.966272</td>\n",
       "      <td>-0.185226</td>\n",
       "      <td>1.792993</td>\n",
       "      <td>-0.863291</td>\n",
       "      <td>-0.010309</td>\n",
       "      <td>1.247203</td>\n",
       "      <td>0.237609</td>\n",
       "      <td>0.377436</td>\n",
       "      <td>-1.387024</td>\n",
       "      <td>...</td>\n",
       "      <td>-0.108300</td>\n",
       "      <td>0.005274</td>\n",
       "      <td>-0.190321</td>\n",
       "      <td>-1.175575</td>\n",
       "      <td>0.647376</td>\n",
       "      <td>-0.221929</td>\n",
       "      <td>0.062723</td>\n",
       "      <td>0.061458</td>\n",
       "      <td>123.50</td>\n",
       "      <td>0</td>\n",
       "    </tr>\n",
       "    <tr>\n",
       "      <th>4</th>\n",
       "      <td>2.0</td>\n",
       "      <td>-1.158233</td>\n",
       "      <td>0.877737</td>\n",
       "      <td>1.548718</td>\n",
       "      <td>0.403034</td>\n",
       "      <td>-0.407193</td>\n",
       "      <td>0.095921</td>\n",
       "      <td>0.592941</td>\n",
       "      <td>-0.270533</td>\n",
       "      <td>0.817739</td>\n",
       "      <td>...</td>\n",
       "      <td>-0.009431</td>\n",
       "      <td>0.798278</td>\n",
       "      <td>-0.137458</td>\n",
       "      <td>0.141267</td>\n",
       "      <td>-0.206010</td>\n",
       "      <td>0.502292</td>\n",
       "      <td>0.219422</td>\n",
       "      <td>0.215153</td>\n",
       "      <td>69.99</td>\n",
       "      <td>0</td>\n",
       "    </tr>\n",
       "    <tr>\n",
       "      <th>...</th>\n",
       "      <td>...</td>\n",
       "      <td>...</td>\n",
       "      <td>...</td>\n",
       "      <td>...</td>\n",
       "      <td>...</td>\n",
       "      <td>...</td>\n",
       "      <td>...</td>\n",
       "      <td>...</td>\n",
       "      <td>...</td>\n",
       "      <td>...</td>\n",
       "      <td>...</td>\n",
       "      <td>...</td>\n",
       "      <td>...</td>\n",
       "      <td>...</td>\n",
       "      <td>...</td>\n",
       "      <td>...</td>\n",
       "      <td>...</td>\n",
       "      <td>...</td>\n",
       "      <td>...</td>\n",
       "      <td>...</td>\n",
       "      <td>...</td>\n",
       "    </tr>\n",
       "    <tr>\n",
       "      <th>284802</th>\n",
       "      <td>172786.0</td>\n",
       "      <td>-11.881118</td>\n",
       "      <td>10.071785</td>\n",
       "      <td>-9.834783</td>\n",
       "      <td>-2.066656</td>\n",
       "      <td>-5.364473</td>\n",
       "      <td>-2.606837</td>\n",
       "      <td>-4.918215</td>\n",
       "      <td>7.305334</td>\n",
       "      <td>1.914428</td>\n",
       "      <td>...</td>\n",
       "      <td>0.213454</td>\n",
       "      <td>0.111864</td>\n",
       "      <td>1.014480</td>\n",
       "      <td>-0.509348</td>\n",
       "      <td>1.436807</td>\n",
       "      <td>0.250034</td>\n",
       "      <td>0.943651</td>\n",
       "      <td>0.823731</td>\n",
       "      <td>0.77</td>\n",
       "      <td>0</td>\n",
       "    </tr>\n",
       "    <tr>\n",
       "      <th>284803</th>\n",
       "      <td>172787.0</td>\n",
       "      <td>-0.732789</td>\n",
       "      <td>-0.055080</td>\n",
       "      <td>2.035030</td>\n",
       "      <td>-0.738589</td>\n",
       "      <td>0.868229</td>\n",
       "      <td>1.058415</td>\n",
       "      <td>0.024330</td>\n",
       "      <td>0.294869</td>\n",
       "      <td>0.584800</td>\n",
       "      <td>...</td>\n",
       "      <td>0.214205</td>\n",
       "      <td>0.924384</td>\n",
       "      <td>0.012463</td>\n",
       "      <td>-1.016226</td>\n",
       "      <td>-0.606624</td>\n",
       "      <td>-0.395255</td>\n",
       "      <td>0.068472</td>\n",
       "      <td>-0.053527</td>\n",
       "      <td>24.79</td>\n",
       "      <td>0</td>\n",
       "    </tr>\n",
       "    <tr>\n",
       "      <th>284804</th>\n",
       "      <td>172788.0</td>\n",
       "      <td>1.919565</td>\n",
       "      <td>-0.301254</td>\n",
       "      <td>-3.249640</td>\n",
       "      <td>-0.557828</td>\n",
       "      <td>2.630515</td>\n",
       "      <td>3.031260</td>\n",
       "      <td>-0.296827</td>\n",
       "      <td>0.708417</td>\n",
       "      <td>0.432454</td>\n",
       "      <td>...</td>\n",
       "      <td>0.232045</td>\n",
       "      <td>0.578229</td>\n",
       "      <td>-0.037501</td>\n",
       "      <td>0.640134</td>\n",
       "      <td>0.265745</td>\n",
       "      <td>-0.087371</td>\n",
       "      <td>0.004455</td>\n",
       "      <td>-0.026561</td>\n",
       "      <td>67.88</td>\n",
       "      <td>0</td>\n",
       "    </tr>\n",
       "    <tr>\n",
       "      <th>284805</th>\n",
       "      <td>172788.0</td>\n",
       "      <td>-0.240440</td>\n",
       "      <td>0.530483</td>\n",
       "      <td>0.702510</td>\n",
       "      <td>0.689799</td>\n",
       "      <td>-0.377961</td>\n",
       "      <td>0.623708</td>\n",
       "      <td>-0.686180</td>\n",
       "      <td>0.679145</td>\n",
       "      <td>0.392087</td>\n",
       "      <td>...</td>\n",
       "      <td>0.265245</td>\n",
       "      <td>0.800049</td>\n",
       "      <td>-0.163298</td>\n",
       "      <td>0.123205</td>\n",
       "      <td>-0.569159</td>\n",
       "      <td>0.546668</td>\n",
       "      <td>0.108821</td>\n",
       "      <td>0.104533</td>\n",
       "      <td>10.00</td>\n",
       "      <td>0</td>\n",
       "    </tr>\n",
       "    <tr>\n",
       "      <th>284806</th>\n",
       "      <td>172792.0</td>\n",
       "      <td>-0.533413</td>\n",
       "      <td>-0.189733</td>\n",
       "      <td>0.703337</td>\n",
       "      <td>-0.506271</td>\n",
       "      <td>-0.012546</td>\n",
       "      <td>-0.649617</td>\n",
       "      <td>1.577006</td>\n",
       "      <td>-0.414650</td>\n",
       "      <td>0.486180</td>\n",
       "      <td>...</td>\n",
       "      <td>0.261057</td>\n",
       "      <td>0.643078</td>\n",
       "      <td>0.376777</td>\n",
       "      <td>0.008797</td>\n",
       "      <td>-0.473649</td>\n",
       "      <td>-0.818267</td>\n",
       "      <td>-0.002415</td>\n",
       "      <td>0.013649</td>\n",
       "      <td>217.00</td>\n",
       "      <td>0</td>\n",
       "    </tr>\n",
       "  </tbody>\n",
       "</table>\n",
       "<p>284807 rows × 31 columns</p>\n",
       "</div>"
      ],
      "text/plain": [
       "            Time         V1         V2        V3        V4        V5  \\\n",
       "0            0.0  -1.359807  -0.072781  2.536347  1.378155 -0.338321   \n",
       "1            0.0   1.191857   0.266151  0.166480  0.448154  0.060018   \n",
       "2            1.0  -1.358354  -1.340163  1.773209  0.379780 -0.503198   \n",
       "3            1.0  -0.966272  -0.185226  1.792993 -0.863291 -0.010309   \n",
       "4            2.0  -1.158233   0.877737  1.548718  0.403034 -0.407193   \n",
       "...          ...        ...        ...       ...       ...       ...   \n",
       "284802  172786.0 -11.881118  10.071785 -9.834783 -2.066656 -5.364473   \n",
       "284803  172787.0  -0.732789  -0.055080  2.035030 -0.738589  0.868229   \n",
       "284804  172788.0   1.919565  -0.301254 -3.249640 -0.557828  2.630515   \n",
       "284805  172788.0  -0.240440   0.530483  0.702510  0.689799 -0.377961   \n",
       "284806  172792.0  -0.533413  -0.189733  0.703337 -0.506271 -0.012546   \n",
       "\n",
       "              V6        V7        V8        V9  ...       V21       V22  \\\n",
       "0       0.462388  0.239599  0.098698  0.363787  ... -0.018307  0.277838   \n",
       "1      -0.082361 -0.078803  0.085102 -0.255425  ... -0.225775 -0.638672   \n",
       "2       1.800499  0.791461  0.247676 -1.514654  ...  0.247998  0.771679   \n",
       "3       1.247203  0.237609  0.377436 -1.387024  ... -0.108300  0.005274   \n",
       "4       0.095921  0.592941 -0.270533  0.817739  ... -0.009431  0.798278   \n",
       "...          ...       ...       ...       ...  ...       ...       ...   \n",
       "284802 -2.606837 -4.918215  7.305334  1.914428  ...  0.213454  0.111864   \n",
       "284803  1.058415  0.024330  0.294869  0.584800  ...  0.214205  0.924384   \n",
       "284804  3.031260 -0.296827  0.708417  0.432454  ...  0.232045  0.578229   \n",
       "284805  0.623708 -0.686180  0.679145  0.392087  ...  0.265245  0.800049   \n",
       "284806 -0.649617  1.577006 -0.414650  0.486180  ...  0.261057  0.643078   \n",
       "\n",
       "             V23       V24       V25       V26       V27       V28  Amount  \\\n",
       "0      -0.110474  0.066928  0.128539 -0.189115  0.133558 -0.021053  149.62   \n",
       "1       0.101288 -0.339846  0.167170  0.125895 -0.008983  0.014724    2.69   \n",
       "2       0.909412 -0.689281 -0.327642 -0.139097 -0.055353 -0.059752  378.66   \n",
       "3      -0.190321 -1.175575  0.647376 -0.221929  0.062723  0.061458  123.50   \n",
       "4      -0.137458  0.141267 -0.206010  0.502292  0.219422  0.215153   69.99   \n",
       "...          ...       ...       ...       ...       ...       ...     ...   \n",
       "284802  1.014480 -0.509348  1.436807  0.250034  0.943651  0.823731    0.77   \n",
       "284803  0.012463 -1.016226 -0.606624 -0.395255  0.068472 -0.053527   24.79   \n",
       "284804 -0.037501  0.640134  0.265745 -0.087371  0.004455 -0.026561   67.88   \n",
       "284805 -0.163298  0.123205 -0.569159  0.546668  0.108821  0.104533   10.00   \n",
       "284806  0.376777  0.008797 -0.473649 -0.818267 -0.002415  0.013649  217.00   \n",
       "\n",
       "        Class  \n",
       "0           0  \n",
       "1           0  \n",
       "2           0  \n",
       "3           0  \n",
       "4           0  \n",
       "...       ...  \n",
       "284802      0  \n",
       "284803      0  \n",
       "284804      0  \n",
       "284805      0  \n",
       "284806      0  \n",
       "\n",
       "[284807 rows x 31 columns]"
      ]
     },
     "execution_count": 3,
     "metadata": {},
     "output_type": "execute_result"
    }
   ],
   "source": [
    "credit_data"
   ]
  },
  {
   "cell_type": "markdown",
   "id": "2a30dbc4",
   "metadata": {
    "papermill": {
     "duration": 0.018598,
     "end_time": "2023-09-07T13:17:57.434022",
     "exception": false,
     "start_time": "2023-09-07T13:17:57.415424",
     "status": "completed"
    },
    "tags": []
   },
   "source": [
    "## DataFrames Operations\n",
    "DataFrames have basic properties that can be useful to know about. One is the dataframes shape, as well basic info about its columns, and a statistical summary of its columns. You don't need to memorize these just know they exist and look up anything you don't know. "
   ]
  },
  {
   "cell_type": "code",
   "execution_count": 4,
   "id": "c8461a6a",
   "metadata": {
    "execution": {
     "iopub.execute_input": "2023-09-07T13:17:57.474322Z",
     "iopub.status.busy": "2023-09-07T13:17:57.473078Z",
     "iopub.status.idle": "2023-09-07T13:17:57.479497Z",
     "shell.execute_reply": "2023-09-07T13:17:57.478675Z"
    },
    "papermill": {
     "duration": 0.028884,
     "end_time": "2023-09-07T13:17:57.481805",
     "exception": false,
     "start_time": "2023-09-07T13:17:57.452921",
     "status": "completed"
    },
    "tags": []
   },
   "outputs": [
    {
     "data": {
      "text/plain": [
       "(284807, 31)"
      ]
     },
     "execution_count": 4,
     "metadata": {},
     "output_type": "execute_result"
    }
   ],
   "source": [
    "credit_data.shape"
   ]
  },
  {
   "cell_type": "code",
   "execution_count": 5,
   "id": "264c94b8",
   "metadata": {
    "execution": {
     "iopub.execute_input": "2023-09-07T13:17:57.589187Z",
     "iopub.status.busy": "2023-09-07T13:17:57.587880Z",
     "iopub.status.idle": "2023-09-07T13:17:57.637329Z",
     "shell.execute_reply": "2023-09-07T13:17:57.635871Z"
    },
    "papermill": {
     "duration": 0.139285,
     "end_time": "2023-09-07T13:17:57.640277",
     "exception": false,
     "start_time": "2023-09-07T13:17:57.500992",
     "status": "completed"
    },
    "tags": []
   },
   "outputs": [
    {
     "name": "stdout",
     "output_type": "stream",
     "text": [
      "<class 'pandas.core.frame.DataFrame'>\n",
      "RangeIndex: 284807 entries, 0 to 284806\n",
      "Data columns (total 31 columns):\n",
      " #   Column  Non-Null Count   Dtype  \n",
      "---  ------  --------------   -----  \n",
      " 0   Time    284807 non-null  float64\n",
      " 1   V1      284807 non-null  float64\n",
      " 2   V2      284807 non-null  float64\n",
      " 3   V3      284807 non-null  float64\n",
      " 4   V4      284807 non-null  float64\n",
      " 5   V5      284807 non-null  float64\n",
      " 6   V6      284807 non-null  float64\n",
      " 7   V7      284807 non-null  float64\n",
      " 8   V8      284807 non-null  float64\n",
      " 9   V9      284807 non-null  float64\n",
      " 10  V10     284807 non-null  float64\n",
      " 11  V11     284807 non-null  float64\n",
      " 12  V12     284807 non-null  float64\n",
      " 13  V13     284807 non-null  float64\n",
      " 14  V14     284807 non-null  float64\n",
      " 15  V15     284807 non-null  float64\n",
      " 16  V16     284807 non-null  float64\n",
      " 17  V17     284807 non-null  float64\n",
      " 18  V18     284807 non-null  float64\n",
      " 19  V19     284807 non-null  float64\n",
      " 20  V20     284807 non-null  float64\n",
      " 21  V21     284807 non-null  float64\n",
      " 22  V22     284807 non-null  float64\n",
      " 23  V23     284807 non-null  float64\n",
      " 24  V24     284807 non-null  float64\n",
      " 25  V25     284807 non-null  float64\n",
      " 26  V26     284807 non-null  float64\n",
      " 27  V27     284807 non-null  float64\n",
      " 28  V28     284807 non-null  float64\n",
      " 29  Amount  284807 non-null  float64\n",
      " 30  Class   284807 non-null  int64  \n",
      "dtypes: float64(30), int64(1)\n",
      "memory usage: 67.4 MB\n"
     ]
    }
   ],
   "source": [
    "credit_data.info()"
   ]
  },
  {
   "cell_type": "code",
   "execution_count": 6,
   "id": "261013ef",
   "metadata": {
    "execution": {
     "iopub.execute_input": "2023-09-07T13:17:57.681709Z",
     "iopub.status.busy": "2023-09-07T13:17:57.681310Z",
     "iopub.status.idle": "2023-09-07T13:17:58.184397Z",
     "shell.execute_reply": "2023-09-07T13:17:58.183233Z"
    },
    "papermill": {
     "duration": 0.526505,
     "end_time": "2023-09-07T13:17:58.186852",
     "exception": false,
     "start_time": "2023-09-07T13:17:57.660347",
     "status": "completed"
    },
    "tags": []
   },
   "outputs": [
    {
     "data": {
      "text/html": [
       "<div>\n",
       "<style scoped>\n",
       "    .dataframe tbody tr th:only-of-type {\n",
       "        vertical-align: middle;\n",
       "    }\n",
       "\n",
       "    .dataframe tbody tr th {\n",
       "        vertical-align: top;\n",
       "    }\n",
       "\n",
       "    .dataframe thead th {\n",
       "        text-align: right;\n",
       "    }\n",
       "</style>\n",
       "<table border=\"1\" class=\"dataframe\">\n",
       "  <thead>\n",
       "    <tr style=\"text-align: right;\">\n",
       "      <th></th>\n",
       "      <th>Time</th>\n",
       "      <th>V1</th>\n",
       "      <th>V2</th>\n",
       "      <th>V3</th>\n",
       "      <th>V4</th>\n",
       "      <th>V5</th>\n",
       "      <th>V6</th>\n",
       "      <th>V7</th>\n",
       "      <th>V8</th>\n",
       "      <th>V9</th>\n",
       "      <th>...</th>\n",
       "      <th>V21</th>\n",
       "      <th>V22</th>\n",
       "      <th>V23</th>\n",
       "      <th>V24</th>\n",
       "      <th>V25</th>\n",
       "      <th>V26</th>\n",
       "      <th>V27</th>\n",
       "      <th>V28</th>\n",
       "      <th>Amount</th>\n",
       "      <th>Class</th>\n",
       "    </tr>\n",
       "  </thead>\n",
       "  <tbody>\n",
       "    <tr>\n",
       "      <th>count</th>\n",
       "      <td>284807.000000</td>\n",
       "      <td>2.848070e+05</td>\n",
       "      <td>2.848070e+05</td>\n",
       "      <td>2.848070e+05</td>\n",
       "      <td>2.848070e+05</td>\n",
       "      <td>2.848070e+05</td>\n",
       "      <td>2.848070e+05</td>\n",
       "      <td>2.848070e+05</td>\n",
       "      <td>2.848070e+05</td>\n",
       "      <td>2.848070e+05</td>\n",
       "      <td>...</td>\n",
       "      <td>2.848070e+05</td>\n",
       "      <td>2.848070e+05</td>\n",
       "      <td>2.848070e+05</td>\n",
       "      <td>2.848070e+05</td>\n",
       "      <td>2.848070e+05</td>\n",
       "      <td>2.848070e+05</td>\n",
       "      <td>2.848070e+05</td>\n",
       "      <td>2.848070e+05</td>\n",
       "      <td>284807.000000</td>\n",
       "      <td>284807.000000</td>\n",
       "    </tr>\n",
       "    <tr>\n",
       "      <th>mean</th>\n",
       "      <td>94813.859575</td>\n",
       "      <td>1.168375e-15</td>\n",
       "      <td>3.416908e-16</td>\n",
       "      <td>-1.379537e-15</td>\n",
       "      <td>2.074095e-15</td>\n",
       "      <td>9.604066e-16</td>\n",
       "      <td>1.487313e-15</td>\n",
       "      <td>-5.556467e-16</td>\n",
       "      <td>1.213481e-16</td>\n",
       "      <td>-2.406331e-15</td>\n",
       "      <td>...</td>\n",
       "      <td>1.654067e-16</td>\n",
       "      <td>-3.568593e-16</td>\n",
       "      <td>2.578648e-16</td>\n",
       "      <td>4.473266e-15</td>\n",
       "      <td>5.340915e-16</td>\n",
       "      <td>1.683437e-15</td>\n",
       "      <td>-3.660091e-16</td>\n",
       "      <td>-1.227390e-16</td>\n",
       "      <td>88.349619</td>\n",
       "      <td>0.001727</td>\n",
       "    </tr>\n",
       "    <tr>\n",
       "      <th>std</th>\n",
       "      <td>47488.145955</td>\n",
       "      <td>1.958696e+00</td>\n",
       "      <td>1.651309e+00</td>\n",
       "      <td>1.516255e+00</td>\n",
       "      <td>1.415869e+00</td>\n",
       "      <td>1.380247e+00</td>\n",
       "      <td>1.332271e+00</td>\n",
       "      <td>1.237094e+00</td>\n",
       "      <td>1.194353e+00</td>\n",
       "      <td>1.098632e+00</td>\n",
       "      <td>...</td>\n",
       "      <td>7.345240e-01</td>\n",
       "      <td>7.257016e-01</td>\n",
       "      <td>6.244603e-01</td>\n",
       "      <td>6.056471e-01</td>\n",
       "      <td>5.212781e-01</td>\n",
       "      <td>4.822270e-01</td>\n",
       "      <td>4.036325e-01</td>\n",
       "      <td>3.300833e-01</td>\n",
       "      <td>250.120109</td>\n",
       "      <td>0.041527</td>\n",
       "    </tr>\n",
       "    <tr>\n",
       "      <th>min</th>\n",
       "      <td>0.000000</td>\n",
       "      <td>-5.640751e+01</td>\n",
       "      <td>-7.271573e+01</td>\n",
       "      <td>-4.832559e+01</td>\n",
       "      <td>-5.683171e+00</td>\n",
       "      <td>-1.137433e+02</td>\n",
       "      <td>-2.616051e+01</td>\n",
       "      <td>-4.355724e+01</td>\n",
       "      <td>-7.321672e+01</td>\n",
       "      <td>-1.343407e+01</td>\n",
       "      <td>...</td>\n",
       "      <td>-3.483038e+01</td>\n",
       "      <td>-1.093314e+01</td>\n",
       "      <td>-4.480774e+01</td>\n",
       "      <td>-2.836627e+00</td>\n",
       "      <td>-1.029540e+01</td>\n",
       "      <td>-2.604551e+00</td>\n",
       "      <td>-2.256568e+01</td>\n",
       "      <td>-1.543008e+01</td>\n",
       "      <td>0.000000</td>\n",
       "      <td>0.000000</td>\n",
       "    </tr>\n",
       "    <tr>\n",
       "      <th>25%</th>\n",
       "      <td>54201.500000</td>\n",
       "      <td>-9.203734e-01</td>\n",
       "      <td>-5.985499e-01</td>\n",
       "      <td>-8.903648e-01</td>\n",
       "      <td>-8.486401e-01</td>\n",
       "      <td>-6.915971e-01</td>\n",
       "      <td>-7.682956e-01</td>\n",
       "      <td>-5.540759e-01</td>\n",
       "      <td>-2.086297e-01</td>\n",
       "      <td>-6.430976e-01</td>\n",
       "      <td>...</td>\n",
       "      <td>-2.283949e-01</td>\n",
       "      <td>-5.423504e-01</td>\n",
       "      <td>-1.618463e-01</td>\n",
       "      <td>-3.545861e-01</td>\n",
       "      <td>-3.171451e-01</td>\n",
       "      <td>-3.269839e-01</td>\n",
       "      <td>-7.083953e-02</td>\n",
       "      <td>-5.295979e-02</td>\n",
       "      <td>5.600000</td>\n",
       "      <td>0.000000</td>\n",
       "    </tr>\n",
       "    <tr>\n",
       "      <th>50%</th>\n",
       "      <td>84692.000000</td>\n",
       "      <td>1.810880e-02</td>\n",
       "      <td>6.548556e-02</td>\n",
       "      <td>1.798463e-01</td>\n",
       "      <td>-1.984653e-02</td>\n",
       "      <td>-5.433583e-02</td>\n",
       "      <td>-2.741871e-01</td>\n",
       "      <td>4.010308e-02</td>\n",
       "      <td>2.235804e-02</td>\n",
       "      <td>-5.142873e-02</td>\n",
       "      <td>...</td>\n",
       "      <td>-2.945017e-02</td>\n",
       "      <td>6.781943e-03</td>\n",
       "      <td>-1.119293e-02</td>\n",
       "      <td>4.097606e-02</td>\n",
       "      <td>1.659350e-02</td>\n",
       "      <td>-5.213911e-02</td>\n",
       "      <td>1.342146e-03</td>\n",
       "      <td>1.124383e-02</td>\n",
       "      <td>22.000000</td>\n",
       "      <td>0.000000</td>\n",
       "    </tr>\n",
       "    <tr>\n",
       "      <th>75%</th>\n",
       "      <td>139320.500000</td>\n",
       "      <td>1.315642e+00</td>\n",
       "      <td>8.037239e-01</td>\n",
       "      <td>1.027196e+00</td>\n",
       "      <td>7.433413e-01</td>\n",
       "      <td>6.119264e-01</td>\n",
       "      <td>3.985649e-01</td>\n",
       "      <td>5.704361e-01</td>\n",
       "      <td>3.273459e-01</td>\n",
       "      <td>5.971390e-01</td>\n",
       "      <td>...</td>\n",
       "      <td>1.863772e-01</td>\n",
       "      <td>5.285536e-01</td>\n",
       "      <td>1.476421e-01</td>\n",
       "      <td>4.395266e-01</td>\n",
       "      <td>3.507156e-01</td>\n",
       "      <td>2.409522e-01</td>\n",
       "      <td>9.104512e-02</td>\n",
       "      <td>7.827995e-02</td>\n",
       "      <td>77.165000</td>\n",
       "      <td>0.000000</td>\n",
       "    </tr>\n",
       "    <tr>\n",
       "      <th>max</th>\n",
       "      <td>172792.000000</td>\n",
       "      <td>2.454930e+00</td>\n",
       "      <td>2.205773e+01</td>\n",
       "      <td>9.382558e+00</td>\n",
       "      <td>1.687534e+01</td>\n",
       "      <td>3.480167e+01</td>\n",
       "      <td>7.330163e+01</td>\n",
       "      <td>1.205895e+02</td>\n",
       "      <td>2.000721e+01</td>\n",
       "      <td>1.559499e+01</td>\n",
       "      <td>...</td>\n",
       "      <td>2.720284e+01</td>\n",
       "      <td>1.050309e+01</td>\n",
       "      <td>2.252841e+01</td>\n",
       "      <td>4.584549e+00</td>\n",
       "      <td>7.519589e+00</td>\n",
       "      <td>3.517346e+00</td>\n",
       "      <td>3.161220e+01</td>\n",
       "      <td>3.384781e+01</td>\n",
       "      <td>25691.160000</td>\n",
       "      <td>1.000000</td>\n",
       "    </tr>\n",
       "  </tbody>\n",
       "</table>\n",
       "<p>8 rows × 31 columns</p>\n",
       "</div>"
      ],
      "text/plain": [
       "                Time            V1            V2            V3            V4  \\\n",
       "count  284807.000000  2.848070e+05  2.848070e+05  2.848070e+05  2.848070e+05   \n",
       "mean    94813.859575  1.168375e-15  3.416908e-16 -1.379537e-15  2.074095e-15   \n",
       "std     47488.145955  1.958696e+00  1.651309e+00  1.516255e+00  1.415869e+00   \n",
       "min         0.000000 -5.640751e+01 -7.271573e+01 -4.832559e+01 -5.683171e+00   \n",
       "25%     54201.500000 -9.203734e-01 -5.985499e-01 -8.903648e-01 -8.486401e-01   \n",
       "50%     84692.000000  1.810880e-02  6.548556e-02  1.798463e-01 -1.984653e-02   \n",
       "75%    139320.500000  1.315642e+00  8.037239e-01  1.027196e+00  7.433413e-01   \n",
       "max    172792.000000  2.454930e+00  2.205773e+01  9.382558e+00  1.687534e+01   \n",
       "\n",
       "                 V5            V6            V7            V8            V9  \\\n",
       "count  2.848070e+05  2.848070e+05  2.848070e+05  2.848070e+05  2.848070e+05   \n",
       "mean   9.604066e-16  1.487313e-15 -5.556467e-16  1.213481e-16 -2.406331e-15   \n",
       "std    1.380247e+00  1.332271e+00  1.237094e+00  1.194353e+00  1.098632e+00   \n",
       "min   -1.137433e+02 -2.616051e+01 -4.355724e+01 -7.321672e+01 -1.343407e+01   \n",
       "25%   -6.915971e-01 -7.682956e-01 -5.540759e-01 -2.086297e-01 -6.430976e-01   \n",
       "50%   -5.433583e-02 -2.741871e-01  4.010308e-02  2.235804e-02 -5.142873e-02   \n",
       "75%    6.119264e-01  3.985649e-01  5.704361e-01  3.273459e-01  5.971390e-01   \n",
       "max    3.480167e+01  7.330163e+01  1.205895e+02  2.000721e+01  1.559499e+01   \n",
       "\n",
       "       ...           V21           V22           V23           V24  \\\n",
       "count  ...  2.848070e+05  2.848070e+05  2.848070e+05  2.848070e+05   \n",
       "mean   ...  1.654067e-16 -3.568593e-16  2.578648e-16  4.473266e-15   \n",
       "std    ...  7.345240e-01  7.257016e-01  6.244603e-01  6.056471e-01   \n",
       "min    ... -3.483038e+01 -1.093314e+01 -4.480774e+01 -2.836627e+00   \n",
       "25%    ... -2.283949e-01 -5.423504e-01 -1.618463e-01 -3.545861e-01   \n",
       "50%    ... -2.945017e-02  6.781943e-03 -1.119293e-02  4.097606e-02   \n",
       "75%    ...  1.863772e-01  5.285536e-01  1.476421e-01  4.395266e-01   \n",
       "max    ...  2.720284e+01  1.050309e+01  2.252841e+01  4.584549e+00   \n",
       "\n",
       "                V25           V26           V27           V28         Amount  \\\n",
       "count  2.848070e+05  2.848070e+05  2.848070e+05  2.848070e+05  284807.000000   \n",
       "mean   5.340915e-16  1.683437e-15 -3.660091e-16 -1.227390e-16      88.349619   \n",
       "std    5.212781e-01  4.822270e-01  4.036325e-01  3.300833e-01     250.120109   \n",
       "min   -1.029540e+01 -2.604551e+00 -2.256568e+01 -1.543008e+01       0.000000   \n",
       "25%   -3.171451e-01 -3.269839e-01 -7.083953e-02 -5.295979e-02       5.600000   \n",
       "50%    1.659350e-02 -5.213911e-02  1.342146e-03  1.124383e-02      22.000000   \n",
       "75%    3.507156e-01  2.409522e-01  9.104512e-02  7.827995e-02      77.165000   \n",
       "max    7.519589e+00  3.517346e+00  3.161220e+01  3.384781e+01   25691.160000   \n",
       "\n",
       "               Class  \n",
       "count  284807.000000  \n",
       "mean        0.001727  \n",
       "std         0.041527  \n",
       "min         0.000000  \n",
       "25%         0.000000  \n",
       "50%         0.000000  \n",
       "75%         0.000000  \n",
       "max         1.000000  \n",
       "\n",
       "[8 rows x 31 columns]"
      ]
     },
     "execution_count": 6,
     "metadata": {},
     "output_type": "execute_result"
    }
   ],
   "source": [
    "credit_data.describe()"
   ]
  },
  {
   "cell_type": "markdown",
   "id": "ca2a56f8",
   "metadata": {
    "papermill": {
     "duration": 0.020212,
     "end_time": "2023-09-07T13:17:58.228030",
     "exception": false,
     "start_time": "2023-09-07T13:17:58.207818",
     "status": "completed"
    },
    "tags": []
   },
   "source": [
    "## Split data into X and y"
   ]
  },
  {
   "cell_type": "markdown",
   "id": "85a7b6af",
   "metadata": {
    "papermill": {
     "duration": 0.019657,
     "end_time": "2023-09-07T13:17:58.267822",
     "exception": false,
     "start_time": "2023-09-07T13:17:58.248165",
     "status": "completed"
    },
    "tags": []
   },
   "source": [
    "Using .iloc treates the dataframe like an array, putting : includes the entire dimension. so .iloc[:,:] includes the entire dataframe."
   ]
  },
  {
   "cell_type": "code",
   "execution_count": 7,
   "id": "2848f88d",
   "metadata": {
    "execution": {
     "iopub.execute_input": "2023-09-07T13:17:58.309969Z",
     "iopub.status.busy": "2023-09-07T13:17:58.309531Z",
     "iopub.status.idle": "2023-09-07T13:17:58.341046Z",
     "shell.execute_reply": "2023-09-07T13:17:58.339673Z"
    },
    "papermill": {
     "duration": 0.055894,
     "end_time": "2023-09-07T13:17:58.343925",
     "exception": false,
     "start_time": "2023-09-07T13:17:58.288031",
     "status": "completed"
    },
    "tags": []
   },
   "outputs": [],
   "source": [
    "X = credit_data.iloc[:,:30]\n",
    "y = credit_data.iloc[:,30]"
   ]
  },
  {
   "cell_type": "markdown",
   "id": "764d3751",
   "metadata": {
    "papermill": {
     "duration": 0.019847,
     "end_time": "2023-09-07T13:17:58.385306",
     "exception": false,
     "start_time": "2023-09-07T13:17:58.365459",
     "status": "completed"
    },
    "tags": []
   },
   "source": [
    "# Create Model"
   ]
  },
  {
   "cell_type": "markdown",
   "id": "0f912ee1",
   "metadata": {
    "papermill": {
     "duration": 0.019865,
     "end_time": "2023-09-07T13:17:58.425291",
     "exception": false,
     "start_time": "2023-09-07T13:17:58.405426",
     "status": "completed"
    },
    "tags": []
   },
   "source": [
    "## Make a Model Function\n",
    "Making a function makes it easier to tune the model."
   ]
  },
  {
   "cell_type": "markdown",
   "id": "c9975227",
   "metadata": {
    "papermill": {
     "duration": 0.019835,
     "end_time": "2023-09-07T13:17:58.465275",
     "exception": false,
     "start_time": "2023-09-07T13:17:58.445440",
     "status": "completed"
    },
    "tags": []
   },
   "source": [
    "To create a model we can use the keras Sequential API. \n",
    "1. Create the sequential model and add layers. First add an Input() layer then in this case use Dense() layers which are normal neural network layers. For Dense layers you can specify the number of units and the activation function.\n",
    "2. Compile the model. Here you specify your loss function (mean square error, 'mse') and the optimizer. Use 'adam' which is gradient descent algorithim that it tweaked to improve convergence, don't worry about the details for now. You can also specify metrics such as mean absulote error 'mae'."
   ]
  },
  {
   "cell_type": "code",
   "execution_count": 8,
   "id": "969de0b0",
   "metadata": {
    "execution": {
     "iopub.execute_input": "2023-09-07T13:17:58.507987Z",
     "iopub.status.busy": "2023-09-07T13:17:58.507542Z",
     "iopub.status.idle": "2023-09-07T13:17:58.514513Z",
     "shell.execute_reply": "2023-09-07T13:17:58.513556Z"
    },
    "papermill": {
     "duration": 0.031037,
     "end_time": "2023-09-07T13:17:58.516833",
     "exception": false,
     "start_time": "2023-09-07T13:17:58.485796",
     "status": "completed"
    },
    "tags": []
   },
   "outputs": [],
   "source": [
    "def create_model():\n",
    "    \n",
    "    model = keras.Sequential([\n",
    "        tfl.Input(shape = (30,)),\n",
    "        tfl.Dense(units = 512, activation = 'sigmoid'),\n",
    "        tfl.Dense(units = 512, activation = 'sigmoid'),\n",
    "        tfl.Dense(units = 1, activation = 'sigmoid')\n",
    "    ])\n",
    "    \n",
    "    model.compile(loss = 'binary_crossentropy', optimizer = 'adam', metrics = ['accuracy'])\n",
    "    \n",
    "    return model"
   ]
  },
  {
   "cell_type": "markdown",
   "id": "ccaf50fe",
   "metadata": {
    "papermill": {
     "duration": 0.020163,
     "end_time": "2023-09-07T13:17:58.557873",
     "exception": false,
     "start_time": "2023-09-07T13:17:58.537710",
     "status": "completed"
    },
    "tags": []
   },
   "source": [
    "## View Model Summary\n",
    "The number of parameters is usually a good indicator of your model's complexity and how long it will take to train. The number of parameters is important but it's usually better initially to pay attention to the general architecture (like choice of activation function). "
   ]
  },
  {
   "cell_type": "code",
   "execution_count": 9,
   "id": "50a8de6f",
   "metadata": {
    "execution": {
     "iopub.execute_input": "2023-09-07T13:17:58.600569Z",
     "iopub.status.busy": "2023-09-07T13:17:58.600183Z",
     "iopub.status.idle": "2023-09-07T13:17:58.830037Z",
     "shell.execute_reply": "2023-09-07T13:17:58.828906Z"
    },
    "papermill": {
     "duration": 0.259759,
     "end_time": "2023-09-07T13:17:58.838508",
     "exception": false,
     "start_time": "2023-09-07T13:17:58.578749",
     "status": "completed"
    },
    "tags": []
   },
   "outputs": [
    {
     "name": "stdout",
     "output_type": "stream",
     "text": [
      "Model: \"sequential\"\n",
      "_________________________________________________________________\n",
      " Layer (type)                Output Shape              Param #   \n",
      "=================================================================\n",
      " dense (Dense)               (None, 512)               15872     \n",
      "                                                                 \n",
      " dense_1 (Dense)             (None, 512)               262656    \n",
      "                                                                 \n",
      " dense_2 (Dense)             (None, 1)                 513       \n",
      "                                                                 \n",
      "=================================================================\n",
      "Total params: 279,041\n",
      "Trainable params: 279,041\n",
      "Non-trainable params: 0\n",
      "_________________________________________________________________\n"
     ]
    }
   ],
   "source": [
    "model = create_model()\n",
    "model.summary()"
   ]
  },
  {
   "cell_type": "markdown",
   "id": "12897241",
   "metadata": {
    "papermill": {
     "duration": 0.021333,
     "end_time": "2023-09-07T13:17:58.881756",
     "exception": false,
     "start_time": "2023-09-07T13:17:58.860423",
     "status": "completed"
    },
    "tags": []
   },
   "source": [
    "# Iteratively Train Model"
   ]
  },
  {
   "cell_type": "markdown",
   "id": "f0beb4de",
   "metadata": {
    "papermill": {
     "duration": 0.021071,
     "end_time": "2023-09-07T13:17:58.924410",
     "exception": false,
     "start_time": "2023-09-07T13:17:58.903339",
     "status": "completed"
    },
    "tags": []
   },
   "source": [
    "## Fitting the Model\n",
    "model.fit trains the model by going through the entire dataset and preforming gradient descent. You can specify the epoch number, the number of loops through the training data."
   ]
  },
  {
   "cell_type": "code",
   "execution_count": 10,
   "id": "d640ca46",
   "metadata": {
    "execution": {
     "iopub.execute_input": "2023-09-07T13:17:58.969092Z",
     "iopub.status.busy": "2023-09-07T13:17:58.968323Z",
     "iopub.status.idle": "2023-09-07T13:18:47.074379Z",
     "shell.execute_reply": "2023-09-07T13:18:47.072988Z"
    },
    "papermill": {
     "duration": 48.131941,
     "end_time": "2023-09-07T13:18:47.077663",
     "exception": false,
     "start_time": "2023-09-07T13:17:58.945722",
     "status": "completed"
    },
    "tags": []
   },
   "outputs": [
    {
     "name": "stdout",
     "output_type": "stream",
     "text": [
      "8901/8901 [==============================] - 48s 5ms/step - loss: 0.0134 - accuracy: 0.9982\n"
     ]
    }
   ],
   "source": [
    "history = model.fit(X,y, epochs = 1)"
   ]
  },
  {
   "cell_type": "markdown",
   "id": "a299bfb4",
   "metadata": {
    "papermill": {
     "duration": 0.103303,
     "end_time": "2023-09-07T13:18:47.285174",
     "exception": false,
     "start_time": "2023-09-07T13:18:47.181871",
     "status": "completed"
    },
    "tags": []
   },
   "source": [
    "## Evaluating The Model\n",
    "The model looks really accurate, lets see how often it can recognize fraud."
   ]
  },
  {
   "cell_type": "markdown",
   "id": "d93b6f78",
   "metadata": {
    "papermill": {
     "duration": 0.101355,
     "end_time": "2023-09-07T13:18:47.488595",
     "exception": false,
     "start_time": "2023-09-07T13:18:47.387240",
     "status": "completed"
    },
    "tags": []
   },
   "source": [
    "In order to only use fraudulent cases we need to see where in the dataframe (what indexes) the Class is 1. The list of that tells you whether the index meets some condition is called a mask. We can put the mask on the dataframe to get the dataframe of only fraudulent cases."
   ]
  },
  {
   "cell_type": "code",
   "execution_count": 11,
   "id": "d268d099",
   "metadata": {
    "execution": {
     "iopub.execute_input": "2023-09-07T13:18:47.694586Z",
     "iopub.status.busy": "2023-09-07T13:18:47.694185Z",
     "iopub.status.idle": "2023-09-07T13:18:47.703197Z",
     "shell.execute_reply": "2023-09-07T13:18:47.702048Z"
    },
    "papermill": {
     "duration": 0.114417,
     "end_time": "2023-09-07T13:18:47.705788",
     "exception": false,
     "start_time": "2023-09-07T13:18:47.591371",
     "status": "completed"
    },
    "tags": []
   },
   "outputs": [],
   "source": [
    "fraud_mask = credit_data['Class'] == 1 #Set a condition, series of boolean values\n",
    "fraud_data = credit_data[fraud_mask] #Get only fraud cases\n",
    "\n",
    "#Split into X and y\n",
    "X_fraud = fraud_data.iloc[:,:30] \n",
    "y_fraud = fraud_data.iloc[:,30]"
   ]
  },
  {
   "cell_type": "markdown",
   "id": "33015fb5",
   "metadata": {
    "papermill": {
     "duration": 0.101678,
     "end_time": "2023-09-07T13:18:47.909524",
     "exception": false,
     "start_time": "2023-09-07T13:18:47.807846",
     "status": "completed"
    },
    "tags": []
   },
   "source": [
    "Use model.evaluate to get the loss and other metrics (accuracy) on the data."
   ]
  },
  {
   "cell_type": "code",
   "execution_count": 12,
   "id": "42ebeac5",
   "metadata": {
    "execution": {
     "iopub.execute_input": "2023-09-07T13:18:48.118028Z",
     "iopub.status.busy": "2023-09-07T13:18:48.116689Z",
     "iopub.status.idle": "2023-09-07T13:18:48.422714Z",
     "shell.execute_reply": "2023-09-07T13:18:48.421208Z"
    },
    "papermill": {
     "duration": 0.41288,
     "end_time": "2023-09-07T13:18:48.425561",
     "exception": false,
     "start_time": "2023-09-07T13:18:48.012681",
     "status": "completed"
    },
    "tags": []
   },
   "outputs": [
    {
     "name": "stdout",
     "output_type": "stream",
     "text": [
      "16/16 [==============================] - 0s 2ms/step - loss: 7.2602 - accuracy: 0.0000e+00\n"
     ]
    },
    {
     "data": {
      "text/plain": [
       "[7.2602386474609375, 0.0]"
      ]
     },
     "execution_count": 12,
     "metadata": {},
     "output_type": "execute_result"
    }
   ],
   "source": [
    "model.evaluate(X_fraud,y_fraud)"
   ]
  },
  {
   "cell_type": "markdown",
   "id": "3968af56",
   "metadata": {
    "papermill": {
     "duration": 0.103027,
     "end_time": "2023-09-07T13:18:48.631307",
     "exception": false,
     "start_time": "2023-09-07T13:18:48.528280",
     "status": "completed"
    },
    "tags": []
   },
   "source": [
    "0 percent accuracy whats going on, lets look at the model's predictions."
   ]
  },
  {
   "cell_type": "code",
   "execution_count": 13,
   "id": "6e57a4cf",
   "metadata": {
    "execution": {
     "iopub.execute_input": "2023-09-07T13:18:48.840698Z",
     "iopub.status.busy": "2023-09-07T13:18:48.840265Z",
     "iopub.status.idle": "2023-09-07T13:18:49.030579Z",
     "shell.execute_reply": "2023-09-07T13:18:49.029093Z"
    },
    "papermill": {
     "duration": 0.299017,
     "end_time": "2023-09-07T13:18:49.033361",
     "exception": false,
     "start_time": "2023-09-07T13:18:48.734344",
     "status": "completed"
    },
    "tags": []
   },
   "outputs": [
    {
     "name": "stdout",
     "output_type": "stream",
     "text": [
      "1/1 [==============================] - 0s 112ms/step\n"
     ]
    },
    {
     "data": {
      "text/plain": [
       "array([[0.00070294],\n",
       "       [0.00070288],\n",
       "       [0.00070294],\n",
       "       [0.00070294],\n",
       "       [0.00070294],\n",
       "       [0.00070294],\n",
       "       [0.00070294],\n",
       "       [0.00070294],\n",
       "       [0.00070294],\n",
       "       [0.00070294]], dtype=float32)"
      ]
     },
     "execution_count": 13,
     "metadata": {},
     "output_type": "execute_result"
    }
   ],
   "source": [
    "model.predict(X_fraud[:10])"
   ]
  },
  {
   "cell_type": "markdown",
   "id": "3cb4be8a",
   "metadata": {
    "papermill": {
     "duration": 0.104856,
     "end_time": "2023-09-07T13:18:49.241309",
     "exception": false,
     "start_time": "2023-09-07T13:18:49.136453",
     "status": "completed"
    },
    "tags": []
   },
   "source": [
    "It looks like the model is only guessing that the case is not fraudulent, so the model only seems like its accurate because there is a major class imbalance."
   ]
  },
  {
   "cell_type": "markdown",
   "id": "ece7107d",
   "metadata": {
    "papermill": {
     "duration": 0.102686,
     "end_time": "2023-09-07T13:18:49.446626",
     "exception": false,
     "start_time": "2023-09-07T13:18:49.343940",
     "status": "completed"
    },
    "tags": []
   },
   "source": [
    "## Addressing Class Imbalance\n",
    "Class Weights are a common method of addressing imbalance. What it does is weight the under represented class higher in the loss function."
   ]
  },
  {
   "cell_type": "code",
   "execution_count": 14,
   "id": "007c320b",
   "metadata": {
    "execution": {
     "iopub.execute_input": "2023-09-07T13:18:49.657346Z",
     "iopub.status.busy": "2023-09-07T13:18:49.656038Z",
     "iopub.status.idle": "2023-09-07T13:18:49.662408Z",
     "shell.execute_reply": "2023-09-07T13:18:49.661478Z"
    },
    "papermill": {
     "duration": 0.113421,
     "end_time": "2023-09-07T13:18:49.664888",
     "exception": false,
     "start_time": "2023-09-07T13:18:49.551467",
     "status": "completed"
    },
    "tags": []
   },
   "outputs": [],
   "source": [
    "class_totals = [len(y)-len(y_fraud),len(y_fraud)]\n",
    "class_weight = {i:len(y)/(2*total) for i,total in enumerate(class_totals)}"
   ]
  },
  {
   "cell_type": "markdown",
   "id": "92c44620",
   "metadata": {
    "papermill": {
     "duration": 0.10186,
     "end_time": "2023-09-07T13:18:49.870387",
     "exception": false,
     "start_time": "2023-09-07T13:18:49.768527",
     "status": "completed"
    },
    "tags": []
   },
   "source": [
    "It seems like our model isn't complex enough to learn how to detect fradulent behavior. Lets add more layers and try using a better activation function. We will also use the AUC metric which accounts for class imbalance. AUC will be between 0 and 1, the higher the better. (In actual code you wouldn't recreate the model function just edit the original)"
   ]
  },
  {
   "cell_type": "code",
   "execution_count": 15,
   "id": "097c4e60",
   "metadata": {
    "execution": {
     "iopub.execute_input": "2023-09-07T13:18:50.081354Z",
     "iopub.status.busy": "2023-09-07T13:18:50.079500Z",
     "iopub.status.idle": "2023-09-07T13:18:50.101345Z",
     "shell.execute_reply": "2023-09-07T13:18:50.100307Z"
    },
    "papermill": {
     "duration": 0.129894,
     "end_time": "2023-09-07T13:18:50.104075",
     "exception": false,
     "start_time": "2023-09-07T13:18:49.974181",
     "status": "completed"
    },
    "tags": []
   },
   "outputs": [],
   "source": [
    "AUC = keras.metrics.AUC(curve = 'PR') # get the auc metric, don't worry about what it is only its meaning for now\n",
    "\n",
    "def create_model():\n",
    "    \n",
    "    model = keras.Sequential([\n",
    "        tfl.Input(shape = (30,)),\n",
    "        tfl.Dense(64, activation = 'relu', kernel_initializer = 'he_uniform'), #When using relu specify the kernel initializer to be\n",
    "        tfl.Dense(64, activation = 'relu', kernel_initializer = 'he_uniform'), #'he_uniform'\n",
    "        tfl.Dense(1, activation = 'sigmoid')\n",
    "    ])\n",
    "    \n",
    "    model.compile(loss = 'binary_crossentropy', optimizer = 'adam', metrics = ['accuracy',AUC]) #Use better metric AUC \n",
    "    \n",
    "    return model"
   ]
  },
  {
   "cell_type": "code",
   "execution_count": 16,
   "id": "025ff08d",
   "metadata": {
    "execution": {
     "iopub.execute_input": "2023-09-07T13:18:50.315180Z",
     "iopub.status.busy": "2023-09-07T13:18:50.313863Z",
     "iopub.status.idle": "2023-09-07T13:18:50.398208Z",
     "shell.execute_reply": "2023-09-07T13:18:50.396996Z"
    },
    "papermill": {
     "duration": 0.192376,
     "end_time": "2023-09-07T13:18:50.402939",
     "exception": false,
     "start_time": "2023-09-07T13:18:50.210563",
     "status": "completed"
    },
    "tags": []
   },
   "outputs": [
    {
     "name": "stdout",
     "output_type": "stream",
     "text": [
      "Model: \"sequential_1\"\n",
      "_________________________________________________________________\n",
      " Layer (type)                Output Shape              Param #   \n",
      "=================================================================\n",
      " dense_3 (Dense)             (None, 64)                1984      \n",
      "                                                                 \n",
      " dense_4 (Dense)             (None, 64)                4160      \n",
      "                                                                 \n",
      " dense_5 (Dense)             (None, 1)                 65        \n",
      "                                                                 \n",
      "=================================================================\n",
      "Total params: 6,209\n",
      "Trainable params: 6,209\n",
      "Non-trainable params: 0\n",
      "_________________________________________________________________\n"
     ]
    }
   ],
   "source": [
    "model = create_model() #creating the model again\n",
    "model.summary()"
   ]
  },
  {
   "cell_type": "code",
   "execution_count": 17,
   "id": "5d58cd4a",
   "metadata": {
    "execution": {
     "iopub.execute_input": "2023-09-07T13:18:50.613746Z",
     "iopub.status.busy": "2023-09-07T13:18:50.612781Z",
     "iopub.status.idle": "2023-09-07T13:22:13.360515Z",
     "shell.execute_reply": "2023-09-07T13:22:13.358959Z"
    },
    "papermill": {
     "duration": 202.856529,
     "end_time": "2023-09-07T13:22:13.363372",
     "exception": false,
     "start_time": "2023-09-07T13:18:50.506843",
     "status": "completed"
    },
    "tags": []
   },
   "outputs": [
    {
     "name": "stdout",
     "output_type": "stream",
     "text": [
      "Epoch 1/10\n",
      "8901/8901 [==============================] - 21s 2ms/step - loss: 1097.0459 - accuracy: 0.5455 - auc: 0.0018\n",
      "Epoch 2/10\n",
      "8901/8901 [==============================] - 20s 2ms/step - loss: 132.2289 - accuracy: 0.5840 - auc: 0.0020\n",
      "Epoch 3/10\n",
      "8901/8901 [==============================] - 20s 2ms/step - loss: 15.8924 - accuracy: 0.3939 - auc: 0.0020\n",
      "Epoch 4/10\n",
      "8901/8901 [==============================] - 20s 2ms/step - loss: 3.1580 - accuracy: 0.0454 - auc: 0.0021\n",
      "Epoch 5/10\n",
      "8901/8901 [==============================] - 20s 2ms/step - loss: 1.9548 - accuracy: 0.2909 - auc: 0.0020\n",
      "Epoch 6/10\n",
      "8901/8901 [==============================] - 20s 2ms/step - loss: 4.1220 - accuracy: 0.3551 - auc: 0.0026\n",
      "Epoch 7/10\n",
      "8901/8901 [==============================] - 20s 2ms/step - loss: 1.1635 - accuracy: 0.0711 - auc: 0.0017\n",
      "Epoch 8/10\n",
      "8901/8901 [==============================] - 21s 2ms/step - loss: 1.6208 - accuracy: 0.9129 - auc: 0.0017\n",
      "Epoch 9/10\n",
      "8901/8901 [==============================] - 20s 2ms/step - loss: 4.6511 - accuracy: 0.1346 - auc: 0.0017\n",
      "Epoch 10/10\n",
      "8901/8901 [==============================] - 20s 2ms/step - loss: 1.3073 - accuracy: 0.5233 - auc: 0.0017\n"
     ]
    },
    {
     "data": {
      "text/plain": [
       "<keras.callbacks.History at 0x7f7cf79d6350>"
      ]
     },
     "execution_count": 17,
     "metadata": {},
     "output_type": "execute_result"
    }
   ],
   "source": [
    "model.fit(X,y,epochs = 10, class_weight = class_weight) #training with new model"
   ]
  },
  {
   "cell_type": "markdown",
   "id": "a47e2b32",
   "metadata": {
    "papermill": {
     "duration": 0.480653,
     "end_time": "2023-09-07T13:22:14.316541",
     "exception": false,
     "start_time": "2023-09-07T13:22:13.835888",
     "status": "completed"
    },
    "tags": []
   },
   "source": [
    "It looks like the loss and accuracy are jumping all over the place. This corresponds the having a learning rate that's too high unable to converge."
   ]
  },
  {
   "cell_type": "markdown",
   "id": "9512a979",
   "metadata": {
    "papermill": {
     "duration": 0.476356,
     "end_time": "2023-09-07T13:22:15.259113",
     "exception": false,
     "start_time": "2023-09-07T13:22:14.782757",
     "status": "completed"
    },
    "tags": []
   },
   "source": [
    "## Update Model Function and Use Step Decay"
   ]
  },
  {
   "cell_type": "code",
   "execution_count": 18,
   "id": "60ca21ab",
   "metadata": {
    "execution": {
     "iopub.execute_input": "2023-09-07T13:22:16.310102Z",
     "iopub.status.busy": "2023-09-07T13:22:16.309687Z",
     "iopub.status.idle": "2023-09-07T13:22:16.319721Z",
     "shell.execute_reply": "2023-09-07T13:22:16.318263Z"
    },
    "papermill": {
     "duration": 0.522628,
     "end_time": "2023-09-07T13:22:16.322461",
     "exception": false,
     "start_time": "2023-09-07T13:22:15.799833",
     "status": "completed"
    },
    "tags": []
   },
   "outputs": [],
   "source": [
    "def create_model(learning_rate):\n",
    "    \n",
    "    model = keras.Sequential([\n",
    "        tfl.Input(shape = (30,)),\n",
    "        tfl.Dense(64, activation = 'leaky_relu', kernel_initializer = 'he_uniform'), \n",
    "        tfl.Dense(128, activation = 'leaky_relu', kernel_initializer = 'he_uniform'), \n",
    "        tfl.Dense(256, activation = 'leaky_relu', kernel_initializer = 'he_uniform'), # Use more layers and units\n",
    "        tfl.Dense(128, activation = 'leaky_relu', kernel_initializer = 'he_uniform'),\n",
    "        tfl.Dense(64, activation = 'leaky_relu', kernel_initializer = 'he_uniform'),\n",
    "        tfl.Dense(1, activation = 'sigmoid')\n",
    "    ])\n",
    "    \n",
    "    optimizer = keras.optimizers.Adam(learning_rate = learning_rate) # Specify learning rate by creating adam optimizer object\n",
    "    \n",
    "    model.compile(loss = 'binary_crossentropy', optimizer = optimizer, metrics = ['accuracy',AUC])\n",
    "    \n",
    "    return model"
   ]
  },
  {
   "cell_type": "markdown",
   "id": "76ff505d",
   "metadata": {
    "papermill": {
     "duration": 0.472517,
     "end_time": "2023-09-07T13:22:17.266305",
     "exception": false,
     "start_time": "2023-09-07T13:22:16.793788",
     "status": "completed"
    },
    "tags": []
   },
   "source": [
    "Lets use a more complex model and also incorporate step decay in order to decrease the learning rate when we get to more sensitive regions."
   ]
  },
  {
   "cell_type": "code",
   "execution_count": 19,
   "id": "3381991e",
   "metadata": {
    "execution": {
     "iopub.execute_input": "2023-09-07T13:22:18.205541Z",
     "iopub.status.busy": "2023-09-07T13:22:18.204582Z",
     "iopub.status.idle": "2023-09-07T13:41:38.694958Z",
     "shell.execute_reply": "2023-09-07T13:41:38.693517Z"
    },
    "papermill": {
     "duration": 1160.964559,
     "end_time": "2023-09-07T13:41:38.697925",
     "exception": false,
     "start_time": "2023-09-07T13:22:17.733366",
     "status": "completed"
    },
    "tags": []
   },
   "outputs": [
    {
     "name": "stdout",
     "output_type": "stream",
     "text": [
      "Epoch 1/40\n",
      "8901/8901 [==============================] - 30s 3ms/step - loss: 59.9129 - accuracy: 0.9951 - auc: 0.0017 - lr: 0.0010\n",
      "Epoch 2/40\n",
      "8901/8901 [==============================] - 29s 3ms/step - loss: 15.3859 - accuracy: 0.9957 - auc: 0.0021 - lr: 0.0010\n",
      "Epoch 3/40\n",
      "8901/8901 [==============================] - 28s 3ms/step - loss: 13.1150 - accuracy: 0.9962 - auc: 0.0032 - lr: 0.0010\n",
      "Epoch 4/40\n",
      "8901/8901 [==============================] - 28s 3ms/step - loss: 13.1418 - accuracy: 0.9957 - auc: 0.0024 - lr: 0.0010\n",
      "Epoch 5/40\n",
      "8901/8901 [==============================] - 28s 3ms/step - loss: 4.9311 - accuracy: 0.9965 - auc: 0.0051 - lr: 0.0010\n",
      "Epoch 6/40\n",
      "8901/8901 [==============================] - 28s 3ms/step - loss: 7.6499 - accuracy: 0.9967 - auc: 0.0240 - lr: 0.0010\n",
      "Epoch 7/40\n",
      "8901/8901 [==============================] - 28s 3ms/step - loss: 3.7765 - accuracy: 0.9963 - auc: 0.0095 - lr: 0.0010\n",
      "Epoch 8/40\n",
      "8901/8901 [==============================] - 28s 3ms/step - loss: 20.3187 - accuracy: 0.9963 - auc: 0.0190 - lr: 0.0010\n",
      "Epoch 9/40\n",
      "8901/8901 [==============================] - 28s 3ms/step - loss: 5.1654 - accuracy: 0.9963 - auc: 0.0108 - lr: 0.0010\n",
      "Epoch 10/40\n",
      "8901/8901 [==============================] - 29s 3ms/step - loss: 5.3195 - accuracy: 0.9966 - auc: 0.0379 - lr: 0.0010\n",
      "Epoch 11/40\n",
      "8901/8901 [==============================] - 29s 3ms/step - loss: 0.1913 - accuracy: 0.9978 - auc: 0.3401 - lr: 1.0000e-04\n",
      "Epoch 12/40\n",
      "8901/8901 [==============================] - 29s 3ms/step - loss: 0.0627 - accuracy: 0.9982 - auc: 0.4198 - lr: 1.0000e-04\n",
      "Epoch 13/40\n",
      "8901/8901 [==============================] - 29s 3ms/step - loss: 0.0309 - accuracy: 0.9986 - auc: 0.4825 - lr: 1.0000e-04\n",
      "Epoch 14/40\n",
      "8901/8901 [==============================] - 29s 3ms/step - loss: 0.0220 - accuracy: 0.9987 - auc: 0.5106 - lr: 1.0000e-04\n",
      "Epoch 15/40\n",
      "8901/8901 [==============================] - 29s 3ms/step - loss: 0.0127 - accuracy: 0.9989 - auc: 0.5330 - lr: 1.0000e-04\n",
      "Epoch 16/40\n",
      "8901/8901 [==============================] - 29s 3ms/step - loss: 0.0114 - accuracy: 0.9990 - auc: 0.5698 - lr: 1.0000e-04\n",
      "Epoch 17/40\n",
      "8901/8901 [==============================] - 28s 3ms/step - loss: 0.0120 - accuracy: 0.9990 - auc: 0.5764 - lr: 1.0000e-04\n",
      "Epoch 18/40\n",
      "8901/8901 [==============================] - 28s 3ms/step - loss: 0.0102 - accuracy: 0.9991 - auc: 0.6063 - lr: 1.0000e-04\n",
      "Epoch 19/40\n",
      "8901/8901 [==============================] - 30s 3ms/step - loss: 0.0102 - accuracy: 0.9990 - auc: 0.5998 - lr: 1.0000e-04\n",
      "Epoch 20/40\n",
      "8901/8901 [==============================] - 29s 3ms/step - loss: 0.0074 - accuracy: 0.9991 - auc: 0.6425 - lr: 1.0000e-04\n",
      "Epoch 21/40\n",
      "8901/8901 [==============================] - 29s 3ms/step - loss: 0.0048 - accuracy: 0.9993 - auc: 0.7436 - lr: 1.0000e-05\n",
      "Epoch 22/40\n",
      "8901/8901 [==============================] - 29s 3ms/step - loss: 0.0045 - accuracy: 0.9993 - auc: 0.7563 - lr: 1.0000e-05\n",
      "Epoch 23/40\n",
      "8901/8901 [==============================] - 29s 3ms/step - loss: 0.0044 - accuracy: 0.9993 - auc: 0.7604 - lr: 1.0000e-05\n",
      "Epoch 24/40\n",
      "8901/8901 [==============================] - 29s 3ms/step - loss: 0.0044 - accuracy: 0.9993 - auc: 0.7636 - lr: 1.0000e-05\n",
      "Epoch 25/40\n",
      "8901/8901 [==============================] - 28s 3ms/step - loss: 0.0044 - accuracy: 0.9993 - auc: 0.7659 - lr: 1.0000e-05\n",
      "Epoch 26/40\n",
      "8901/8901 [==============================] - 28s 3ms/step - loss: 0.0043 - accuracy: 0.9993 - auc: 0.7659 - lr: 1.0000e-05\n",
      "Epoch 27/40\n",
      "8901/8901 [==============================] - 29s 3ms/step - loss: 0.0042 - accuracy: 0.9993 - auc: 0.7754 - lr: 1.0000e-05\n",
      "Epoch 28/40\n",
      "8901/8901 [==============================] - 29s 3ms/step - loss: 0.0042 - accuracy: 0.9993 - auc: 0.7666 - lr: 1.0000e-05\n",
      "Epoch 29/40\n",
      "8901/8901 [==============================] - 30s 3ms/step - loss: 0.0041 - accuracy: 0.9994 - auc: 0.7675 - lr: 1.0000e-05\n",
      "Epoch 30/40\n",
      "8901/8901 [==============================] - 29s 3ms/step - loss: 0.0041 - accuracy: 0.9994 - auc: 0.7705 - lr: 1.0000e-05\n",
      "Epoch 31/40\n",
      "8901/8901 [==============================] - 29s 3ms/step - loss: 0.0037 - accuracy: 0.9994 - auc: 0.7834 - lr: 1.0000e-06\n",
      "Epoch 32/40\n",
      "8901/8901 [==============================] - 30s 3ms/step - loss: 0.0037 - accuracy: 0.9994 - auc: 0.7867 - lr: 1.0000e-06\n",
      "Epoch 33/40\n",
      "8901/8901 [==============================] - 30s 3ms/step - loss: 0.0037 - accuracy: 0.9994 - auc: 0.7872 - lr: 1.0000e-06\n",
      "Epoch 34/40\n",
      "8901/8901 [==============================] - 29s 3ms/step - loss: 0.0036 - accuracy: 0.9995 - auc: 0.7893 - lr: 1.0000e-06\n",
      "Epoch 35/40\n",
      "8901/8901 [==============================] - 30s 3ms/step - loss: 0.0036 - accuracy: 0.9995 - auc: 0.7876 - lr: 1.0000e-06\n",
      "Epoch 36/40\n",
      "8901/8901 [==============================] - 29s 3ms/step - loss: 0.0036 - accuracy: 0.9994 - auc: 0.7900 - lr: 1.0000e-06\n",
      "Epoch 37/40\n",
      "8901/8901 [==============================] - 30s 3ms/step - loss: 0.0036 - accuracy: 0.9994 - auc: 0.7926 - lr: 1.0000e-06\n",
      "Epoch 38/40\n",
      "8901/8901 [==============================] - 30s 3ms/step - loss: 0.0036 - accuracy: 0.9994 - auc: 0.7922 - lr: 1.0000e-06\n",
      "Epoch 39/40\n",
      "8901/8901 [==============================] - 29s 3ms/step - loss: 0.0036 - accuracy: 0.9994 - auc: 0.7957 - lr: 1.0000e-06\n",
      "Epoch 40/40\n",
      "8901/8901 [==============================] - 29s 3ms/step - loss: 0.0036 - accuracy: 0.9995 - auc: 0.7958 - lr: 1.0000e-06\n"
     ]
    },
    {
     "data": {
      "text/plain": [
       "<keras.callbacks.History at 0x7f7cd8707ee0>"
      ]
     },
     "execution_count": 19,
     "metadata": {},
     "output_type": "execute_result"
    }
   ],
   "source": [
    "step_decay = keras.callbacks.LearningRateScheduler(\n",
    "    lambda epoch: 10**(- int(epoch/10) - 3)\n",
    ")\n",
    "model = create_model(1e-3)\n",
    "model.fit(X,y,epochs = 40, callbacks = [step_decay])"
   ]
  },
  {
   "cell_type": "markdown",
   "id": "fb7bd7d2",
   "metadata": {
    "papermill": {
     "duration": 2.665687,
     "end_time": "2023-09-07T13:41:43.943390",
     "exception": false,
     "start_time": "2023-09-07T13:41:41.277703",
     "status": "completed"
    },
    "tags": []
   },
   "source": [
    "It seems like the model accuractely understands how to classify cases as fraudulent or non fraudulent. Let's test how good our final model is."
   ]
  },
  {
   "cell_type": "markdown",
   "id": "a74b4164",
   "metadata": {
    "papermill": {
     "duration": 2.660234,
     "end_time": "2023-09-07T13:41:49.364954",
     "exception": false,
     "start_time": "2023-09-07T13:41:46.704720",
     "status": "completed"
    },
    "tags": []
   },
   "source": [
    "# Model Evaluation"
   ]
  },
  {
   "cell_type": "markdown",
   "id": "ce470640",
   "metadata": {
    "papermill": {
     "duration": 2.741796,
     "end_time": "2023-09-07T13:41:54.669877",
     "exception": false,
     "start_time": "2023-09-07T13:41:51.928081",
     "status": "completed"
    },
    "tags": []
   },
   "source": [
    "## Precision and Recall"
   ]
  },
  {
   "attachments": {
    "fffd6a4f-9a28-4592-88d5-756be26ea7e6.png": {
     "image/png": "[encoded data removed]"
    }
   },
   "cell_type": "markdown",
   "id": "cea059a6",
   "metadata": {
    "papermill": {
     "duration": 2.627071,
     "end_time": "2023-09-07T13:41:59.980520",
     "exception": false,
     "start_time": "2023-09-07T13:41:57.353449",
     "status": "completed"
    },
    "tags": []
   },
   "source": [
    "So far we know that accuracy isn't always reliable because of major class imbalance because the model can just guess for the majority class. Instead using AUC helps see how well our model can actaully classify both classes reliably. When we tested the model on only fraudulent cases we saw that the model did extremely poorly, instead of looking at the models accuracy on the entire dataset we can instead compute the accuracy on positive cases which is called recall. However the recall can also be unreliable if our model always guesses that the case is fraudulent, therefore we can look at only the cases where the model predicts a positive case and compute the accuracy called precision. Both precision and recall are valuable, in medicine recall is usually valued more because even if precision is a bit lower its urgent to identify most positive cases, however if we want shoot an airplane down depending on if its from the correct military you would want to consider precision more.\n",
    "\n",
    "$$\n",
    "    recall = \\frac{T_p}{T_p + F_n}\n",
    "$$\n",
    "<br>\n",
    "$$\n",
    "    precision = \\frac{T_p}{T_p + F_p}\n",
    "$$\n",
    "![image.png](attachment:fffd6a4f-9a28-4592-88d5-756be26ea7e6.png)"
   ]
  },
  {
   "cell_type": "markdown",
   "id": "fff17e1a",
   "metadata": {
    "papermill": {
     "duration": 2.662272,
     "end_time": "2023-09-07T13:42:05.376596",
     "exception": false,
     "start_time": "2023-09-07T13:42:02.714324",
     "status": "completed"
    },
    "tags": []
   },
   "source": [
    "## AUC"
   ]
  },
  {
   "attachments": {
    "f3938d9c-0c38-419c-bbe0-3631aaf9ed90.png": {
     "image/png": "[encoded data removed]"
    }
   },
   "cell_type": "markdown",
   "id": "3ede0e52",
   "metadata": {
    "papermill": {
     "duration": 2.750664,
     "end_time": "2023-09-07T13:42:10.722570",
     "exception": false,
     "start_time": "2023-09-07T13:42:07.971906",
     "status": "completed"
    },
    "tags": []
   },
   "source": [
    "Since our model outputs probabilities instead of 1s and 0s we need to set a threshold value meaning that our accuracy, precision, and recall can change depending on the choice of thershold. A choice of 0.5 for the threshold isn't always the best one because precision and recall can vary according to the threshold. In order to understand the general effectiveness of the model in terms of the precision and recall we can plot their relationship across varying thersholds from 0 to 1. A generally high precision and recall means the curve will be oriented towards the top right, we can measure this by getting the area underneath the curve which is called the pr auc which stands for precision recall area under the curve. \n",
    "\n",
    "![image.png](attachment:f3938d9c-0c38-419c-bbe0-3631aaf9ed90.png)"
   ]
  },
  {
   "cell_type": "markdown",
   "id": "b560611e",
   "metadata": {
    "papermill": {
     "duration": 2.56881,
     "end_time": "2023-09-07T13:42:15.943612",
     "exception": false,
     "start_time": "2023-09-07T13:42:13.374802",
     "status": "completed"
    },
    "tags": []
   },
   "source": [
    "## F Score"
   ]
  },
  {
   "attachments": {
    "15cbc467-dc74-4794-8101-afd1d4889acc.png": {
     "image/png": "[encoded data removed]"
    }
   },
   "cell_type": "markdown",
   "id": "c2931453",
   "metadata": {
    "papermill": {
     "duration": 2.649951,
     "end_time": "2023-09-07T13:42:21.337546",
     "exception": false,
     "start_time": "2023-09-07T13:42:18.687595",
     "status": "completed"
    },
    "tags": []
   },
   "source": [
    "Now that we have the trained model we don't need to use AUC anymore because we can just determine the best threshold, but it's difficult to determine what the best thershold is based viewing precision and recall individually therefore we can combine them into a metric called the F beta score. The F beta score works like AUC and accuracy in the sense that values are constrained between 0 and 1 and higher is better. Gives precision and recall by choosing a threshold the F beta score returns a value so to determine the best threshold we just need to find the maximum. This metric also requires a choice of beta, higher beta corresponds with higher importance to recall and lower corresponds with more importance on precision with a default value of 1 for equal importance. <br>\n",
    "![image.png](attachment:15cbc467-dc74-4794-8101-afd1d4889acc.png)"
   ]
  },
  {
   "cell_type": "markdown",
   "id": "fc221e90",
   "metadata": {
    "papermill": {
     "duration": 2.752735,
     "end_time": "2023-09-07T13:42:26.674083",
     "exception": false,
     "start_time": "2023-09-07T13:42:23.921348",
     "status": "completed"
    },
    "tags": []
   },
   "source": [
    "## Finding the Best Threshold"
   ]
  },
  {
   "cell_type": "code",
   "execution_count": 20,
   "id": "811f6f98",
   "metadata": {
    "execution": {
     "iopub.execute_input": "2023-09-07T13:42:31.952069Z",
     "iopub.status.busy": "2023-09-07T13:42:31.951651Z",
     "iopub.status.idle": "2023-09-07T13:44:32.552641Z",
     "shell.execute_reply": "2023-09-07T13:44:32.551451Z"
    },
    "papermill": {
     "duration": 125.970987,
     "end_time": "2023-09-07T13:44:35.300384",
     "exception": false,
     "start_time": "2023-09-07T13:42:29.329397",
     "status": "completed"
    },
    "tags": []
   },
   "outputs": [
    {
     "name": "stdout",
     "output_type": "stream",
     "text": [
      "best threshold: 0.5700000000000001 best F1: 0.8294314381270903\n"
     ]
    }
   ],
   "source": [
    "from sklearn.metrics import fbeta_score\n",
    "best_threshold = -1\n",
    "best_F1 = 0\n",
    "\n",
    "for threshold in np.linspace(0,1,101):\n",
    "    \n",
    "    #batch_size = len(y) means it'll do the prediciton on the entire dataset at once, verbose = 0 means no progress bar\n",
    "    y_pred = model.predict(X, batch_size = len(y), verbose = 0) \n",
    "    y_pred = y_pred > threshold #True corresponds with 1 and false corresponds with 0\n",
    "    \n",
    "    F1 = fbeta_score(y, y_pred, beta = 1)\n",
    "    \n",
    "    if best_F1 < F1:\n",
    "        best_threshold = threshold\n",
    "        best_F1 = F1\n",
    "        \n",
    "print('best threshold:', best_threshold, 'best F1:', best_F1)"
   ]
  },
  {
   "cell_type": "markdown",
   "id": "859afb47",
   "metadata": {
    "papermill": {
     "duration": 2.644002,
     "end_time": "2023-09-07T13:44:40.631859",
     "exception": false,
     "start_time": "2023-09-07T13:44:37.987857",
     "status": "completed"
    },
    "tags": []
   },
   "source": [
    "# Summary\n",
    "\n",
    "1. basic data manipulation with pandas .iloc[row index, column index]\n",
    "2. creating a classificaiton model\n",
    "    1. using a better activation function relu with he uniform initialization\n",
    "    2. adding more layers and units to increase complexity\n",
    "    3. using step decay during training\n",
    "3. addresssing class imbalance\n",
    "    1. using class weights to weight positive and negative cases equally in the loss function\n",
    "    2. using AUC metric to get a reliable metric for performance\n",
    "4. evaluating the model\n",
    "    1. using the F1 score to find the best threshold and get the best metric for final model performance"
   ]
  }
 ],
 "kernelspec": {
  "display_name": "Python 3",
  "language": "python",
  "name": "python3"
 },
 "language_info": {
  "codemirror_mode": {
   "name": "ipython",
   "version": 3
  },
  "file_extension": ".py",
  "mimetype": "text/x-python",
  "name": "python",
  "nbconvert_exporter": "python",
  "pygments_lexer": "ipython3",
  "version": "3.6.4"
 },
 "metadata": {
  "kernelspec": {
   "display_name": "Python 3",
   "language": "python",
   "name": "python3"
  },
  "language_info": {
   "codemirror_mode": {
    "name": "ipython",
    "version": 3
   },
   "file_extension": ".py",
   "mimetype": "text/x-python",
   "name": "python",
   "nbconvert_exporter": "python",
   "pygments_lexer": "ipython3",
   "version": "3.10.12"
  },
  "papermill": {
   "default_parameters": {},
   "duration": 1628.410439,
   "end_time": "2023-09-07T13:44:45.807966",
   "environment_variables": {},
   "exception": null,
   "input_path": "__notebook__.ipynb",
   "output_path": "__notebook__.ipynb",
   "parameters": {},
   "start_time": "2023-09-07T13:17:37.397527",
   "version": "2.4.0"
  }
 },
 "nbformat": 4,
 "nbformat_minor": 5
}
